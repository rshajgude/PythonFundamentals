{
 "cells": [
  {
   "cell_type": "code",
   "execution_count": 1,
   "id": "09a6cd1a",
   "metadata": {},
   "outputs": [],
   "source": [
    "lt = [3 ,63 ,12, 7, \"Rajkumar\", 4.5]"
   ]
  },
  {
   "cell_type": "code",
   "execution_count": 2,
   "id": "3b1837df",
   "metadata": {},
   "outputs": [
    {
     "data": {
      "text/plain": [
       "[3, 63, 12, 7, 'Rajkumar', 4.5]"
      ]
     },
     "execution_count": 2,
     "metadata": {},
     "output_type": "execute_result"
    }
   ],
   "source": [
    "lt"
   ]
  },
  {
   "cell_type": "code",
   "execution_count": 3,
   "id": "c06807f5",
   "metadata": {},
   "outputs": [
    {
     "data": {
      "text/plain": [
       "list"
      ]
     },
     "execution_count": 3,
     "metadata": {},
     "output_type": "execute_result"
    }
   ],
   "source": [
    "type(lt)"
   ]
  },
  {
   "cell_type": "code",
   "execution_count": 4,
   "id": "4bca8cb7",
   "metadata": {},
   "outputs": [
    {
     "data": {
      "text/plain": [
       "float"
      ]
     },
     "execution_count": 4,
     "metadata": {},
     "output_type": "execute_result"
    }
   ],
   "source": [
    "type(lt[5])"
   ]
  },
  {
   "cell_type": "code",
   "execution_count": 5,
   "id": "aa52420e",
   "metadata": {},
   "outputs": [
    {
     "data": {
      "text/plain": [
       "[3, 63, 12, 7, 'Rajkumar', 4.5]"
      ]
     },
     "execution_count": 5,
     "metadata": {},
     "output_type": "execute_result"
    }
   ],
   "source": [
    "lt[0:6]"
   ]
  },
  {
   "cell_type": "code",
   "execution_count": 6,
   "id": "616b582c",
   "metadata": {},
   "outputs": [
    {
     "data": {
      "text/plain": [
       "[3, 12, 'Rajkumar']"
      ]
     },
     "execution_count": 6,
     "metadata": {},
     "output_type": "execute_result"
    }
   ],
   "source": [
    "lt[0:6:2]"
   ]
  },
  {
   "cell_type": "code",
   "execution_count": 7,
   "id": "7227de43",
   "metadata": {},
   "outputs": [
    {
     "data": {
      "text/plain": [
       "4.5"
      ]
     },
     "execution_count": 7,
     "metadata": {},
     "output_type": "execute_result"
    }
   ],
   "source": [
    "lt[-1]"
   ]
  },
  {
   "cell_type": "code",
   "execution_count": 8,
   "id": "52ad32cb",
   "metadata": {},
   "outputs": [],
   "source": [
    "s=\"Rajkumar\"\n",
    "t=\"Rajkumar\""
   ]
  },
  {
   "cell_type": "code",
   "execution_count": 9,
   "id": "39fc2c7d",
   "metadata": {},
   "outputs": [
    {
     "data": {
      "text/plain": [
       "2363545765232"
      ]
     },
     "execution_count": 9,
     "metadata": {},
     "output_type": "execute_result"
    }
   ],
   "source": [
    "id(t)"
   ]
  },
  {
   "cell_type": "code",
   "execution_count": 10,
   "id": "2675392d",
   "metadata": {},
   "outputs": [
    {
     "data": {
      "text/plain": [
       "2363545765232"
      ]
     },
     "execution_count": 10,
     "metadata": {},
     "output_type": "execute_result"
    }
   ],
   "source": [
    "id(s)"
   ]
  },
  {
   "cell_type": "code",
   "execution_count": 11,
   "id": "47ce40dc",
   "metadata": {},
   "outputs": [],
   "source": [
    "s = s.replace(\"R\", \"H\")"
   ]
  },
  {
   "cell_type": "code",
   "execution_count": 12,
   "id": "5cc18d49",
   "metadata": {},
   "outputs": [
    {
     "data": {
      "text/plain": [
       "str"
      ]
     },
     "execution_count": 12,
     "metadata": {},
     "output_type": "execute_result"
    }
   ],
   "source": [
    "type(s)"
   ]
  },
  {
   "cell_type": "code",
   "execution_count": 13,
   "id": "5a9c5721",
   "metadata": {},
   "outputs": [
    {
     "data": {
      "text/plain": [
       "'Hajkumar'"
      ]
     },
     "execution_count": 13,
     "metadata": {},
     "output_type": "execute_result"
    }
   ],
   "source": [
    "s"
   ]
  },
  {
   "cell_type": "code",
   "execution_count": 14,
   "id": "22f4340c",
   "metadata": {},
   "outputs": [
    {
     "data": {
      "text/plain": [
       "2363546028144"
      ]
     },
     "execution_count": 14,
     "metadata": {},
     "output_type": "execute_result"
    }
   ],
   "source": [
    "id(s)"
   ]
  },
  {
   "cell_type": "code",
   "execution_count": 15,
   "id": "6aa8d2fa",
   "metadata": {},
   "outputs": [
    {
     "data": {
      "text/plain": [
       "str"
      ]
     },
     "execution_count": 15,
     "metadata": {},
     "output_type": "execute_result"
    }
   ],
   "source": [
    "q=\"Hajkumar\"\n",
    "type(q)"
   ]
  },
  {
   "cell_type": "code",
   "execution_count": 16,
   "id": "5ed48246",
   "metadata": {},
   "outputs": [],
   "source": [
    "q=s"
   ]
  },
  {
   "cell_type": "code",
   "execution_count": 17,
   "id": "7b814f0b",
   "metadata": {},
   "outputs": [
    {
     "data": {
      "text/plain": [
       "2363546028144"
      ]
     },
     "execution_count": 17,
     "metadata": {},
     "output_type": "execute_result"
    }
   ],
   "source": [
    "id(q)"
   ]
  },
  {
   "cell_type": "code",
   "execution_count": 18,
   "id": "c152ce8f",
   "metadata": {},
   "outputs": [
    {
     "data": {
      "text/plain": [
       "'Rajkumar'"
      ]
     },
     "execution_count": 18,
     "metadata": {},
     "output_type": "execute_result"
    }
   ],
   "source": [
    "t"
   ]
  },
  {
   "cell_type": "code",
   "execution_count": 19,
   "id": "85283fb6",
   "metadata": {},
   "outputs": [
    {
     "data": {
      "text/plain": [
       "2363545765232"
      ]
     },
     "execution_count": 19,
     "metadata": {},
     "output_type": "execute_result"
    }
   ],
   "source": [
    "id(t)"
   ]
  },
  {
   "cell_type": "code",
   "execution_count": 20,
   "id": "4d80deb7",
   "metadata": {},
   "outputs": [],
   "source": [
    "lt[2]=30"
   ]
  },
  {
   "cell_type": "code",
   "execution_count": 21,
   "id": "08282c62",
   "metadata": {},
   "outputs": [
    {
     "data": {
      "text/plain": [
       "[3, 63, 30, 7, 'Rajkumar', 4.5]"
      ]
     },
     "execution_count": 21,
     "metadata": {},
     "output_type": "execute_result"
    }
   ],
   "source": [
    "lt"
   ]
  },
  {
   "cell_type": "code",
   "execution_count": 22,
   "id": "7986c9fa",
   "metadata": {},
   "outputs": [],
   "source": [
    "lt[0]= \"Asnvini\""
   ]
  },
  {
   "cell_type": "code",
   "execution_count": 23,
   "id": "a92144f8",
   "metadata": {},
   "outputs": [
    {
     "data": {
      "text/plain": [
       "['Asnvini', 63, 30, 7, 'Rajkumar', 4.5]"
      ]
     },
     "execution_count": 23,
     "metadata": {},
     "output_type": "execute_result"
    }
   ],
   "source": [
    "lt"
   ]
  },
  {
   "cell_type": "code",
   "execution_count": 24,
   "id": "7104bcfb",
   "metadata": {},
   "outputs": [],
   "source": [
    "lt[0]= \"Ashvini\""
   ]
  },
  {
   "cell_type": "code",
   "execution_count": 25,
   "id": "a881c5d1",
   "metadata": {},
   "outputs": [],
   "source": [
    "lt.append(3)"
   ]
  },
  {
   "cell_type": "code",
   "execution_count": 26,
   "id": "09ca3447",
   "metadata": {},
   "outputs": [
    {
     "data": {
      "text/plain": [
       "['Ashvini', 63, 30, 7, 'Rajkumar', 4.5, 3]"
      ]
     },
     "execution_count": 26,
     "metadata": {},
     "output_type": "execute_result"
    }
   ],
   "source": [
    "lt"
   ]
  },
  {
   "cell_type": "code",
   "execution_count": 27,
   "id": "29087ceb",
   "metadata": {},
   "outputs": [],
   "source": [
    "lt.insert(1, 0)"
   ]
  },
  {
   "cell_type": "code",
   "execution_count": 28,
   "id": "b5f0fe90",
   "metadata": {},
   "outputs": [
    {
     "data": {
      "text/plain": [
       "['Ashvini', 0, 63, 30, 7, 'Rajkumar', 4.5, 3]"
      ]
     },
     "execution_count": 28,
     "metadata": {},
     "output_type": "execute_result"
    }
   ],
   "source": [
    "lt"
   ]
  },
  {
   "cell_type": "code",
   "execution_count": 29,
   "id": "ae3c591b",
   "metadata": {},
   "outputs": [
    {
     "data": {
      "text/plain": [
       "3"
      ]
     },
     "execution_count": 29,
     "metadata": {},
     "output_type": "execute_result"
    }
   ],
   "source": [
    "lt.pop()"
   ]
  },
  {
   "cell_type": "code",
   "execution_count": 30,
   "id": "04cab1bd",
   "metadata": {},
   "outputs": [
    {
     "data": {
      "text/plain": [
       "['Ashvini', 0, 63, 30, 7, 'Rajkumar', 4.5]"
      ]
     },
     "execution_count": 30,
     "metadata": {},
     "output_type": "execute_result"
    }
   ],
   "source": [
    "lt"
   ]
  },
  {
   "cell_type": "code",
   "execution_count": 31,
   "id": "2ab64c2d",
   "metadata": {},
   "outputs": [],
   "source": [
    "lt.reverse()"
   ]
  },
  {
   "cell_type": "code",
   "execution_count": 32,
   "id": "319e0bfb",
   "metadata": {},
   "outputs": [
    {
     "data": {
      "text/plain": [
       "[4.5, 'Rajkumar', 7, 30, 63, 0, 'Ashvini']"
      ]
     },
     "execution_count": 32,
     "metadata": {},
     "output_type": "execute_result"
    }
   ],
   "source": [
    "lt"
   ]
  },
  {
   "cell_type": "code",
   "execution_count": 33,
   "id": "0198f883",
   "metadata": {},
   "outputs": [
    {
     "data": {
      "text/plain": [
       "1"
      ]
     },
     "execution_count": 33,
     "metadata": {},
     "output_type": "execute_result"
    }
   ],
   "source": [
    "lt.count(0)"
   ]
  },
  {
   "cell_type": "code",
   "execution_count": 34,
   "id": "b20867aa",
   "metadata": {},
   "outputs": [],
   "source": [
    "lt2=[1,2,3]"
   ]
  },
  {
   "cell_type": "code",
   "execution_count": 35,
   "id": "907e6cd6",
   "metadata": {},
   "outputs": [
    {
     "data": {
      "text/plain": [
       "[4.5, 'Rajkumar', 7, 30, 63, 0, 'Ashvini']"
      ]
     },
     "execution_count": 35,
     "metadata": {},
     "output_type": "execute_result"
    }
   ],
   "source": [
    "lt"
   ]
  },
  {
   "cell_type": "code",
   "execution_count": 36,
   "id": "1c5fdc14",
   "metadata": {},
   "outputs": [],
   "source": [
    "lt.extend(lt2)"
   ]
  },
  {
   "cell_type": "code",
   "execution_count": 37,
   "id": "49a8f2dd",
   "metadata": {},
   "outputs": [
    {
     "data": {
      "text/plain": [
       "[4.5, 'Rajkumar', 7, 30, 63, 0, 'Ashvini', 1, 2, 3]"
      ]
     },
     "execution_count": 37,
     "metadata": {},
     "output_type": "execute_result"
    }
   ],
   "source": [
    "lt"
   ]
  },
  {
   "cell_type": "code",
   "execution_count": 38,
   "id": "284f271b",
   "metadata": {},
   "outputs": [
    {
     "data": {
      "text/plain": [
       "8"
      ]
     },
     "execution_count": 38,
     "metadata": {},
     "output_type": "execute_result"
    }
   ],
   "source": [
    "lt.index(2)"
   ]
  },
  {
   "cell_type": "code",
   "execution_count": 39,
   "id": "aafb44aa",
   "metadata": {},
   "outputs": [],
   "source": [
    "lt2.sort(reverse=True)"
   ]
  },
  {
   "cell_type": "code",
   "execution_count": 40,
   "id": "376c9136",
   "metadata": {},
   "outputs": [
    {
     "data": {
      "text/plain": [
       "[3, 2, 1]"
      ]
     },
     "execution_count": 40,
     "metadata": {},
     "output_type": "execute_result"
    }
   ],
   "source": [
    "lt2"
   ]
  },
  {
   "cell_type": "code",
   "execution_count": 41,
   "id": "6436506b",
   "metadata": {},
   "outputs": [
    {
     "data": {
      "text/plain": [
       "[4.5, 'Rajkumar', 7, 30, 63, 0, 'Ashvini', 1, 2, 3]"
      ]
     },
     "execution_count": 41,
     "metadata": {},
     "output_type": "execute_result"
    }
   ],
   "source": [
    "lt"
   ]
  },
  {
   "cell_type": "code",
   "execution_count": 44,
   "id": "592c6a80",
   "metadata": {},
   "outputs": [],
   "source": [
    "l= 1,22,3,[1,2,3]"
   ]
  },
  {
   "cell_type": "code",
   "execution_count": 45,
   "id": "80e2649b",
   "metadata": {},
   "outputs": [
    {
     "data": {
      "text/plain": [
       "tuple"
      ]
     },
     "execution_count": 45,
     "metadata": {},
     "output_type": "execute_result"
    }
   ],
   "source": [
    "type(l)"
   ]
  },
  {
   "cell_type": "code",
   "execution_count": 46,
   "id": "e79a5c63",
   "metadata": {},
   "outputs": [
    {
     "data": {
      "text/plain": [
       "(1, 22, 3)"
      ]
     },
     "execution_count": 46,
     "metadata": {},
     "output_type": "execute_result"
    }
   ],
   "source": [
    "l[:-1]"
   ]
  },
  {
   "cell_type": "code",
   "execution_count": 47,
   "id": "1d3f47b7",
   "metadata": {},
   "outputs": [
    {
     "data": {
      "text/plain": [
       "[1, 3, 22]"
      ]
     },
     "execution_count": 47,
     "metadata": {},
     "output_type": "execute_result"
    }
   ],
   "source": [
    "sorted(l[:-1])"
   ]
  },
  {
   "cell_type": "code",
   "execution_count": null,
   "id": "b84bbeb4",
   "metadata": {},
   "outputs": [],
   "source": []
  }
 ],
 "metadata": {
  "kernelspec": {
   "display_name": "Python 3 (ipykernel)",
   "language": "python",
   "name": "python3"
  },
  "language_info": {
   "codemirror_mode": {
    "name": "ipython",
    "version": 3
   },
   "file_extension": ".py",
   "mimetype": "text/x-python",
   "name": "python",
   "nbconvert_exporter": "python",
   "pygments_lexer": "ipython3",
   "version": "3.9.12"
  }
 },
 "nbformat": 4,
 "nbformat_minor": 5
}
