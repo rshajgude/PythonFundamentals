{
 "cells": [
  {
   "cell_type": "code",
   "execution_count": 1,
   "id": "da3894ff",
   "metadata": {},
   "outputs": [],
   "source": [
    "d = {}"
   ]
  },
  {
   "cell_type": "code",
   "execution_count": 2,
   "id": "66e7947f",
   "metadata": {},
   "outputs": [
    {
     "data": {
      "text/plain": [
       "dict"
      ]
     },
     "execution_count": 2,
     "metadata": {},
     "output_type": "execute_result"
    }
   ],
   "source": [
    "type(d)"
   ]
  },
  {
   "cell_type": "code",
   "execution_count": 3,
   "id": "e00548dc",
   "metadata": {},
   "outputs": [],
   "source": [
    "d = {'key1':1, 'key2': 2}"
   ]
  },
  {
   "cell_type": "code",
   "execution_count": 4,
   "id": "7a3fb177",
   "metadata": {},
   "outputs": [
    {
     "data": {
      "text/plain": [
       "{'key1': 1, 'key2': 2}"
      ]
     },
     "execution_count": 4,
     "metadata": {},
     "output_type": "execute_result"
    }
   ],
   "source": [
    "d"
   ]
  },
  {
   "cell_type": "code",
   "execution_count": 5,
   "id": "7753c403",
   "metadata": {},
   "outputs": [
    {
     "data": {
      "text/plain": [
       "1"
      ]
     },
     "execution_count": 5,
     "metadata": {},
     "output_type": "execute_result"
    }
   ],
   "source": [
    "d['key1']"
   ]
  },
  {
   "cell_type": "code",
   "execution_count": 6,
   "id": "847c0a22",
   "metadata": {},
   "outputs": [],
   "source": [
    "d[3]=3"
   ]
  },
  {
   "cell_type": "code",
   "execution_count": 7,
   "id": "65657f89",
   "metadata": {},
   "outputs": [
    {
     "data": {
      "text/plain": [
       "{'key1': 1, 'key2': 2, 3: 3}"
      ]
     },
     "execution_count": 7,
     "metadata": {},
     "output_type": "execute_result"
    }
   ],
   "source": [
    "d"
   ]
  },
  {
   "cell_type": "code",
   "execution_count": 8,
   "id": "c2be7cd8",
   "metadata": {},
   "outputs": [],
   "source": [
    "#Key should be string or a number"
   ]
  },
  {
   "cell_type": "code",
   "execution_count": 9,
   "id": "a621587b",
   "metadata": {},
   "outputs": [
    {
     "ename": "KeyError",
     "evalue": "2",
     "output_type": "error",
     "traceback": [
      "\u001b[1;31m---------------------------------------------------------------------------\u001b[0m",
      "\u001b[1;31mKeyError\u001b[0m                                  Traceback (most recent call last)",
      "Input \u001b[1;32mIn [9]\u001b[0m, in \u001b[0;36m<cell line: 1>\u001b[1;34m()\u001b[0m\n\u001b[1;32m----> 1\u001b[0m \u001b[43md\u001b[49m\u001b[43m[\u001b[49m\u001b[38;5;241;43m2\u001b[39;49m\u001b[43m]\u001b[49m\n",
      "\u001b[1;31mKeyError\u001b[0m: 2"
     ]
    }
   ],
   "source": [
    "d[2]"
   ]
  },
  {
   "cell_type": "code",
   "execution_count": 10,
   "id": "9ff0dab4",
   "metadata": {},
   "outputs": [
    {
     "data": {
      "text/plain": [
       "{'key1': 1, 'key2': 2, 3: 3}"
      ]
     },
     "execution_count": 10,
     "metadata": {},
     "output_type": "execute_result"
    }
   ],
   "source": [
    "d1=d.copy()\n",
    "d.copy()"
   ]
  },
  {
   "cell_type": "code",
   "execution_count": null,
   "id": "2d05b1bb",
   "metadata": {},
   "outputs": [],
   "source": []
  },
  {
   "cell_type": "code",
   "execution_count": 11,
   "id": "3b63bd84",
   "metadata": {},
   "outputs": [
    {
     "data": {
      "text/plain": [
       "{'key1': 1, 'key2': 2, 3: 3}"
      ]
     },
     "execution_count": 11,
     "metadata": {},
     "output_type": "execute_result"
    }
   ],
   "source": [
    "d1"
   ]
  },
  {
   "cell_type": "code",
   "execution_count": 12,
   "id": "ab90bfbf",
   "metadata": {},
   "outputs": [],
   "source": [
    "d={1:1, 2:\"string\", 3:[1,2], 4:(3,4), 5:{5,6}, 6:{'key1':'val1', 'key2':'val2'}}"
   ]
  },
  {
   "cell_type": "code",
   "execution_count": 13,
   "id": "9bb5d529",
   "metadata": {},
   "outputs": [
    {
     "data": {
      "text/plain": [
       "{1: 1,\n",
       " 2: 'string',\n",
       " 3: [1, 2],\n",
       " 4: (3, 4),\n",
       " 5: {5, 6},\n",
       " 6: {'key1': 'val1', 'key2': 'val2'}}"
      ]
     },
     "execution_count": 13,
     "metadata": {},
     "output_type": "execute_result"
    }
   ],
   "source": [
    "d"
   ]
  },
  {
   "cell_type": "code",
   "execution_count": 14,
   "id": "d2103898",
   "metadata": {},
   "outputs": [
    {
     "data": {
      "text/plain": [
       "dict_keys([1, 2, 3, 4, 5, 6])"
      ]
     },
     "execution_count": 14,
     "metadata": {},
     "output_type": "execute_result"
    }
   ],
   "source": [
    "d.keys()"
   ]
  },
  {
   "cell_type": "code",
   "execution_count": 15,
   "id": "37af7527",
   "metadata": {},
   "outputs": [
    {
     "data": {
      "text/plain": [
       "dict_values([1, 'string', [1, 2], (3, 4), {5, 6}, {'key1': 'val1', 'key2': 'val2'}])"
      ]
     },
     "execution_count": 15,
     "metadata": {},
     "output_type": "execute_result"
    }
   ],
   "source": [
    "d.values()"
   ]
  },
  {
   "cell_type": "code",
   "execution_count": 16,
   "id": "95183279",
   "metadata": {},
   "outputs": [
    {
     "data": {
      "text/plain": [
       "dict_items([(1, 1), (2, 'string'), (3, [1, 2]), (4, (3, 4)), (5, {5, 6}), (6, {'key1': 'val1', 'key2': 'val2'})])"
      ]
     },
     "execution_count": 16,
     "metadata": {},
     "output_type": "execute_result"
    }
   ],
   "source": [
    "d.items()"
   ]
  },
  {
   "cell_type": "code",
   "execution_count": 17,
   "id": "995288cc",
   "metadata": {},
   "outputs": [],
   "source": [
    "del d[1]"
   ]
  },
  {
   "cell_type": "code",
   "execution_count": 18,
   "id": "b9601e9c",
   "metadata": {},
   "outputs": [
    {
     "data": {
      "text/plain": [
       "{2: 'string',\n",
       " 3: [1, 2],\n",
       " 4: (3, 4),\n",
       " 5: {5, 6},\n",
       " 6: {'key1': 'val1', 'key2': 'val2'}}"
      ]
     },
     "execution_count": 18,
     "metadata": {},
     "output_type": "execute_result"
    }
   ],
   "source": [
    "d"
   ]
  },
  {
   "cell_type": "code",
   "execution_count": 19,
   "id": "1b33004e",
   "metadata": {},
   "outputs": [],
   "source": [
    "d2={\"name\":'rajkumar', 'age':32}"
   ]
  },
  {
   "cell_type": "code",
   "execution_count": 20,
   "id": "eb5a5c6c",
   "metadata": {},
   "outputs": [],
   "source": [
    "d.update(d2)"
   ]
  },
  {
   "cell_type": "code",
   "execution_count": 21,
   "id": "0a47a7cb",
   "metadata": {},
   "outputs": [
    {
     "data": {
      "text/plain": [
       "{2: 'string',\n",
       " 3: [1, 2],\n",
       " 4: (3, 4),\n",
       " 5: {5, 6},\n",
       " 6: {'key1': 'val1', 'key2': 'val2'},\n",
       " 'name': 'rajkumar',\n",
       " 'age': 32}"
      ]
     },
     "execution_count": 21,
     "metadata": {},
     "output_type": "execute_result"
    }
   ],
   "source": [
    "d"
   ]
  },
  {
   "cell_type": "code",
   "execution_count": 22,
   "id": "f22ef7dc",
   "metadata": {},
   "outputs": [],
   "source": [
    "#+ does not work with dictionary"
   ]
  },
  {
   "cell_type": "code",
   "execution_count": 23,
   "id": "ebbdb0b0",
   "metadata": {},
   "outputs": [
    {
     "data": {
      "text/plain": [
       "{2: 'string',\n",
       " 3: [1, 2],\n",
       " 4: (3, 4),\n",
       " 5: {5, 6},\n",
       " 6: {'key1': 'val1', 'key2': 'val2'},\n",
       " 'name': 'rajkumar',\n",
       " 'age': 32}"
      ]
     },
     "execution_count": 23,
     "metadata": {},
     "output_type": "execute_result"
    }
   ],
   "source": [
    "d"
   ]
  },
  {
   "cell_type": "code",
   "execution_count": 24,
   "id": "1fe2b229",
   "metadata": {},
   "outputs": [
    {
     "data": {
      "text/plain": [
       "{'key1': 1, 'key2': 2, 3: 3}"
      ]
     },
     "execution_count": 24,
     "metadata": {},
     "output_type": "execute_result"
    }
   ],
   "source": [
    "d1"
   ]
  },
  {
   "cell_type": "code",
   "execution_count": 25,
   "id": "730dd144",
   "metadata": {},
   "outputs": [
    {
     "data": {
      "text/plain": [
       "{2: None, 3: None, 4: None, 5: None, 6: None, 'name': None, 'age': None}"
      ]
     },
     "execution_count": 25,
     "metadata": {},
     "output_type": "execute_result"
    }
   ],
   "source": [
    "d1.fromkeys(d)"
   ]
  },
  {
   "cell_type": "code",
   "execution_count": 26,
   "id": "082a035d",
   "metadata": {},
   "outputs": [
    {
     "name": "stdout",
     "output_type": "stream",
     "text": [
      "None\n"
     ]
    }
   ],
   "source": [
    "print(d.get(23))"
   ]
  },
  {
   "cell_type": "code",
   "execution_count": null,
   "id": "5b03349c",
   "metadata": {},
   "outputs": [],
   "source": []
  },
  {
   "cell_type": "code",
   "execution_count": null,
   "id": "09a70c12",
   "metadata": {},
   "outputs": [],
   "source": []
  }
 ],
 "metadata": {
  "kernelspec": {
   "display_name": "Python 3 (ipykernel)",
   "language": "python",
   "name": "python3"
  },
  "language_info": {
   "codemirror_mode": {
    "name": "ipython",
    "version": 3
   },
   "file_extension": ".py",
   "mimetype": "text/x-python",
   "name": "python",
   "nbconvert_exporter": "python",
   "pygments_lexer": "ipython3",
   "version": "3.9.12"
  }
 },
 "nbformat": 4,
 "nbformat_minor": 5
}
