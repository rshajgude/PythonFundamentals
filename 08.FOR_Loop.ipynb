{
 "cells": [
  {
   "cell_type": "code",
   "execution_count": 1,
   "id": "207ef734",
   "metadata": {},
   "outputs": [],
   "source": [
    "l=[1,2,3,5,8]"
   ]
  },
  {
   "cell_type": "code",
   "execution_count": 2,
   "id": "e0d765ef",
   "metadata": {},
   "outputs": [
    {
     "data": {
      "text/plain": [
       "[1, 2, 3, 5, 8]"
      ]
     },
     "execution_count": 2,
     "metadata": {},
     "output_type": "execute_result"
    }
   ],
   "source": [
    "l"
   ]
  },
  {
   "cell_type": "code",
   "execution_count": 3,
   "id": "909c7fff",
   "metadata": {},
   "outputs": [
    {
     "name": "stdout",
     "output_type": "stream",
     "text": [
      "1\n",
      "2\n",
      "3\n",
      "5\n",
      "8\n"
     ]
    }
   ],
   "source": [
    "for item in l:\n",
    "    print(item)"
   ]
  },
  {
   "cell_type": "code",
   "execution_count": 4,
   "id": "0f0db9c8",
   "metadata": {},
   "outputs": [
    {
     "name": "stdout",
     "output_type": "stream",
     "text": [
      "R\n",
      "a\n",
      "j\n",
      "k\n",
      "u\n",
      "m\n",
      "a\n",
      "r\n"
     ]
    }
   ],
   "source": [
    "s='Rajkumar'\n",
    "for char in s:\n",
    "    print(char)"
   ]
  },
  {
   "cell_type": "code",
   "execution_count": 5,
   "id": "7d6de1c1",
   "metadata": {},
   "outputs": [],
   "source": [
    "t=('Rajkumar', 4, 'AAA', [67,352,992])"
   ]
  },
  {
   "cell_type": "code",
   "execution_count": 6,
   "id": "5895a442",
   "metadata": {},
   "outputs": [
    {
     "name": "stdout",
     "output_type": "stream",
     "text": [
      "Rajkumar\n",
      "4\n",
      "AAA\n",
      "[67, 352, 992]\n"
     ]
    }
   ],
   "source": [
    "for item in t:\n",
    "    print(item)"
   ]
  },
  {
   "cell_type": "code",
   "execution_count": 7,
   "id": "f3d61447",
   "metadata": {},
   "outputs": [
    {
     "name": "stdout",
     "output_type": "stream",
     "text": [
      "type of  Rajkumar  is : <class 'str'>\n",
      "type of  4  is : <class 'int'>\n",
      "type of  AAA  is : <class 'str'>\n",
      "type of  [67, 352, 992]  is : <class 'list'>\n"
     ]
    }
   ],
   "source": [
    "for item in t:\n",
    "    print('type of ', item , ' is :' , type(item))"
   ]
  },
  {
   "cell_type": "code",
   "execution_count": 8,
   "id": "b39a4119",
   "metadata": {},
   "outputs": [],
   "source": [
    "l = [1,2,'Raj', 3.4, 'test123', 2+3j]"
   ]
  },
  {
   "cell_type": "code",
   "execution_count": 9,
   "id": "bcd2e0f1",
   "metadata": {},
   "outputs": [
    {
     "name": "stdout",
     "output_type": "stream",
     "text": [
      "1\n",
      "2\n"
     ]
    }
   ],
   "source": [
    "for item in l:\n",
    "    if(type(item) == int):\n",
    "        print(item)"
   ]
  },
  {
   "cell_type": "code",
   "execution_count": 10,
   "id": "3c5ea922",
   "metadata": {},
   "outputs": [],
   "source": [
    "l=[2,5,22,'Rajkumar', [42,794,'TTT']]"
   ]
  },
  {
   "cell_type": "code",
   "execution_count": 11,
   "id": "b04ea535",
   "metadata": {},
   "outputs": [
    {
     "name": "stdout",
     "output_type": "stream",
     "text": [
      "index of 2 is 0\n",
      "index of 5 is 1\n",
      "index of 22 is 2\n",
      "index of Rajkumar is 3\n",
      "index of [42, 794, 'TTT'] is 4\n"
     ]
    }
   ],
   "source": [
    "ctr = 0\n",
    "for item in l:\n",
    "    print(f'index of {item} is {ctr}')\n",
    "    ctr = ctr + 1"
   ]
  },
  {
   "cell_type": "code",
   "execution_count": 12,
   "id": "851b9b2f",
   "metadata": {},
   "outputs": [
    {
     "name": "stdout",
     "output_type": "stream",
     "text": [
      "(0, 2)\n",
      "(1, 5)\n",
      "(2, 22)\n",
      "(3, 'Rajkumar')\n",
      "(4, [42, 794, 'TTT'])\n"
     ]
    }
   ],
   "source": [
    "for i in enumerate(l):\n",
    "    print(i)"
   ]
  },
  {
   "cell_type": "code",
   "execution_count": 13,
   "id": "b3117d79",
   "metadata": {},
   "outputs": [
    {
     "name": "stdout",
     "output_type": "stream",
     "text": [
      "0 2\n",
      "1 5\n",
      "2 22\n",
      "3 Rajkumar\n",
      "4 [42, 794, 'TTT']\n"
     ]
    }
   ],
   "source": [
    "for i, j in enumerate(l):\n",
    "    print(i, j)"
   ]
  },
  {
   "cell_type": "code",
   "execution_count": 14,
   "id": "6a5b6115",
   "metadata": {},
   "outputs": [
    {
     "name": "stdout",
     "output_type": "stream",
     "text": [
      "0 2\n",
      "1 5\n",
      "2 22\n",
      "3 Rajkumar\n",
      "4 [42, 794, 'TTT']\n"
     ]
    }
   ],
   "source": [
    "for i in range(len(l)):\n",
    "    print(i, l[i])"
   ]
  },
  {
   "cell_type": "code",
   "execution_count": 15,
   "id": "f1cb66d7",
   "metadata": {},
   "outputs": [
    {
     "name": "stdout",
     "output_type": "stream",
     "text": [
      "R\n",
      "a\n",
      "j\n",
      "k\n",
      "u\n",
      "m\n",
      "a\n",
      "r\n"
     ]
    }
   ],
   "source": [
    "for item in l:\n",
    "    if type(item) == str:\n",
    "        for char in item:\n",
    "            print(char)"
   ]
  },
  {
   "cell_type": "code",
   "execution_count": 16,
   "id": "7c760817",
   "metadata": {},
   "outputs": [],
   "source": [
    "l1=[]\n",
    "for item in l:\n",
    "    if type(item) == int:\n",
    "        l1.append(item*item)"
   ]
  },
  {
   "cell_type": "code",
   "execution_count": 17,
   "id": "73876189",
   "metadata": {},
   "outputs": [
    {
     "data": {
      "text/plain": [
       "[4, 25, 484]"
      ]
     },
     "execution_count": 17,
     "metadata": {},
     "output_type": "execute_result"
    }
   ],
   "source": [
    "l1"
   ]
  },
  {
   "cell_type": "code",
   "execution_count": null,
   "id": "4f870bfc",
   "metadata": {},
   "outputs": [],
   "source": []
  },
  {
   "cell_type": "code",
   "execution_count": null,
   "id": "46345b25",
   "metadata": {},
   "outputs": [],
   "source": []
  },
  {
   "cell_type": "markdown",
   "id": "d82e990f",
   "metadata": {},
   "source": [
    "#### forelse "
   ]
  },
  {
   "cell_type": "code",
   "execution_count": 18,
   "id": "906ebb78",
   "metadata": {},
   "outputs": [
    {
     "data": {
      "text/plain": [
       "[4, 25, 484]"
      ]
     },
     "execution_count": 18,
     "metadata": {},
     "output_type": "execute_result"
    }
   ],
   "source": [
    "l1"
   ]
  },
  {
   "cell_type": "code",
   "execution_count": 19,
   "id": "f5639a89",
   "metadata": {},
   "outputs": [
    {
     "name": "stdout",
     "output_type": "stream",
     "text": [
      "4\n",
      "25\n",
      "484\n",
      "All elements travesed and now in else block\n",
      "-------------------------------------------\n",
      "4\n"
     ]
    }
   ],
   "source": [
    "for item in l1:\n",
    "    if item%10 == 0:\n",
    "        break\n",
    "    print(item)\n",
    "else:\n",
    "    print(\"All elements travesed and now in else block\")\n",
    "       \n",
    "print(\"-------------------------------------------\")\n",
    "for item in l1:\n",
    "    if item%5 == 0:\n",
    "        break\n",
    "    print(item)\n",
    "else:\n",
    "    print(\"All elements travesed and now in else block\")\n",
    "        "
   ]
  },
  {
   "cell_type": "markdown",
   "id": "b77f37c2",
   "metadata": {},
   "source": [
    "#### Note\n",
    "for .. else: statement is used when you want to commit specific number of transaction in one go.. execute code if all elements are processed"
   ]
  },
  {
   "cell_type": "markdown",
   "id": "e9e8151c",
   "metadata": {},
   "source": [
    "### range() function"
   ]
  },
  {
   "cell_type": "code",
   "execution_count": 20,
   "id": "9634f7b9",
   "metadata": {},
   "outputs": [
    {
     "data": {
      "text/plain": [
       "[0, 1, 2, 3, 4, 5, 6, 7, 8, 9]"
      ]
     },
     "execution_count": 20,
     "metadata": {},
     "output_type": "execute_result"
    }
   ],
   "source": [
    "list(range(10))"
   ]
  },
  {
   "cell_type": "code",
   "execution_count": 21,
   "id": "721859a4",
   "metadata": {},
   "outputs": [
    {
     "data": {
      "text/plain": [
       "[5, 6, 7, 8, 9]"
      ]
     },
     "execution_count": 21,
     "metadata": {},
     "output_type": "execute_result"
    }
   ],
   "source": [
    "list(range(5, 10))"
   ]
  },
  {
   "cell_type": "code",
   "execution_count": 22,
   "id": "9c1cbfe4",
   "metadata": {},
   "outputs": [
    {
     "data": {
      "text/plain": [
       "[1, 3, 5, 7, 9]"
      ]
     },
     "execution_count": 22,
     "metadata": {},
     "output_type": "execute_result"
    }
   ],
   "source": [
    "list(range(1,10,2))"
   ]
  },
  {
   "cell_type": "code",
   "execution_count": 23,
   "id": "8da7bccc",
   "metadata": {},
   "outputs": [
    {
     "data": {
      "text/plain": [
       "[0, 2, 4, 6, 8]"
      ]
     },
     "execution_count": 23,
     "metadata": {},
     "output_type": "execute_result"
    }
   ],
   "source": [
    "list(range(0,10,2))"
   ]
  },
  {
   "cell_type": "code",
   "execution_count": 24,
   "id": "309e0158",
   "metadata": {},
   "outputs": [
    {
     "data": {
      "text/plain": [
       "[1, 3, 5, 7, 9]"
      ]
     },
     "execution_count": 24,
     "metadata": {},
     "output_type": "execute_result"
    }
   ],
   "source": [
    "list(range(1,10,2))"
   ]
  },
  {
   "cell_type": "code",
   "execution_count": 25,
   "id": "efd5a878",
   "metadata": {},
   "outputs": [
    {
     "data": {
      "text/plain": [
       "[]"
      ]
     },
     "execution_count": 25,
     "metadata": {},
     "output_type": "execute_result"
    }
   ],
   "source": [
    "list(range(0,10,-1))"
   ]
  },
  {
   "cell_type": "code",
   "execution_count": 26,
   "id": "cf5e4808",
   "metadata": {},
   "outputs": [
    {
     "data": {
      "text/plain": [
       "[10, 9, 8, 7, 6, 5, 4, 3, 2, 1]"
      ]
     },
     "execution_count": 26,
     "metadata": {},
     "output_type": "execute_result"
    }
   ],
   "source": [
    "list(range(10,0,-1))"
   ]
  },
  {
   "cell_type": "code",
   "execution_count": 27,
   "id": "9200a4e6",
   "metadata": {},
   "outputs": [
    {
     "data": {
      "text/plain": [
       "[10, 8, 6]"
      ]
     },
     "execution_count": 27,
     "metadata": {},
     "output_type": "execute_result"
    }
   ],
   "source": [
    "list(range(10,4,-2))"
   ]
  },
  {
   "cell_type": "code",
   "execution_count": 28,
   "id": "f4882092",
   "metadata": {},
   "outputs": [
    {
     "data": {
      "text/plain": [
       "[10, 8, 6, 4, 2, 0, -2]"
      ]
     },
     "execution_count": 28,
     "metadata": {},
     "output_type": "execute_result"
    }
   ],
   "source": [
    "list(range(10,-4,-2))"
   ]
  },
  {
   "cell_type": "code",
   "execution_count": null,
   "id": "ea38b735",
   "metadata": {},
   "outputs": [],
   "source": []
  },
  {
   "cell_type": "markdown",
   "id": "07201f80",
   "metadata": {},
   "source": [
    "### for loop with range() function"
   ]
  },
  {
   "cell_type": "code",
   "execution_count": 29,
   "id": "18c27c44",
   "metadata": {},
   "outputs": [
    {
     "name": "stdout",
     "output_type": "stream",
     "text": [
      "0\n",
      "1\n",
      "2\n",
      "3\n",
      "4\n"
     ]
    }
   ],
   "source": [
    "for i in range(5):\n",
    "    print(i)"
   ]
  },
  {
   "cell_type": "code",
   "execution_count": 30,
   "id": "fb3e9da8",
   "metadata": {},
   "outputs": [
    {
     "name": "stdout",
     "output_type": "stream",
     "text": [
      "*\n",
      "*\n",
      "*\n",
      "*\n",
      "*\n"
     ]
    }
   ],
   "source": [
    "for i in range(5):\n",
    "    print(\"*\")"
   ]
  },
  {
   "cell_type": "code",
   "execution_count": 31,
   "id": "3eb10946",
   "metadata": {},
   "outputs": [
    {
     "name": "stdout",
     "output_type": "stream",
     "text": [
      " *  *  *  *  * "
     ]
    }
   ],
   "source": [
    "for i in range(5):\n",
    "    print(\" * \", end = \"\")"
   ]
  },
  {
   "cell_type": "code",
   "execution_count": 32,
   "id": "6982789b",
   "metadata": {},
   "outputs": [
    {
     "name": "stdout",
     "output_type": "stream",
     "text": [
      " *  *  *  *  * \n",
      " *  *  *  *  * \n",
      " *  *  *  *  * \n",
      " *  *  *  *  * \n",
      " *  *  *  *  * \n"
     ]
    }
   ],
   "source": [
    "for i in range(5):\n",
    "    for j in range(5):\n",
    "        print(\" * \", end=\"\")\n",
    "    print(\"\")"
   ]
  },
  {
   "cell_type": "code",
   "execution_count": 33,
   "id": "46a460f0",
   "metadata": {},
   "outputs": [
    {
     "name": "stdout",
     "output_type": "stream",
     "text": [
      "\n",
      " * \n",
      " *  * \n",
      " *  *  * \n",
      " *  *  *  * \n"
     ]
    }
   ],
   "source": [
    "for i in range(5):\n",
    "    for j in range(i):\n",
    "        print(\" * \", end=\"\")\n",
    "    print(\"\")"
   ]
  },
  {
   "cell_type": "code",
   "execution_count": 34,
   "id": "3a9e72ec",
   "metadata": {},
   "outputs": [
    {
     "name": "stdout",
     "output_type": "stream",
     "text": [
      " * \n",
      " *  * \n",
      " *  *  * \n",
      " *  *  *  * \n",
      " *  *  *  *  * \n"
     ]
    }
   ],
   "source": [
    "for i in range(5):\n",
    "    for j in range(i+1):\n",
    "        print(\" * \", end=\"\")\n",
    "    print(\"\")"
   ]
  },
  {
   "cell_type": "code",
   "execution_count": 35,
   "id": "d6cc65ce",
   "metadata": {},
   "outputs": [
    {
     "name": "stdout",
     "output_type": "stream",
     "text": [
      "\n",
      " * \n",
      " *  * \n",
      " *  *  * \n",
      " *  *  *  * \n",
      " *  *  *  *  * \n"
     ]
    }
   ],
   "source": [
    "for i in range(6):\n",
    "    for j in range(5):\n",
    "        if i > j:\n",
    "            print(\" * \", end=\"\")\n",
    "    print(\"\")"
   ]
  },
  {
   "cell_type": "markdown",
   "id": "e9e8c7af",
   "metadata": {},
   "source": [
    "### for loop with dictionary"
   ]
  },
  {
   "cell_type": "code",
   "execution_count": 36,
   "id": "d1b7d825",
   "metadata": {},
   "outputs": [
    {
     "data": {
      "text/plain": [
       "{'key1': 'value1', 'key2': 23, 'key3': 726}"
      ]
     },
     "execution_count": 36,
     "metadata": {},
     "output_type": "execute_result"
    }
   ],
   "source": [
    "d = {'key1': 'value1', 'key2':23, 'key3':726}\n",
    "d"
   ]
  },
  {
   "cell_type": "code",
   "execution_count": 37,
   "id": "e502df1b",
   "metadata": {},
   "outputs": [
    {
     "name": "stdout",
     "output_type": "stream",
     "text": [
      "key1\n",
      "<class 'str'>\n",
      "key2\n",
      "<class 'str'>\n",
      "key3\n",
      "<class 'str'>\n"
     ]
    }
   ],
   "source": [
    "for i in d:\n",
    "    print(i)\n",
    "    print(type(i))"
   ]
  },
  {
   "cell_type": "code",
   "execution_count": 38,
   "id": "e521a715",
   "metadata": {},
   "outputs": [
    {
     "data": {
      "text/plain": [
       "dict_items([('key1', 'value1'), ('key2', 23), ('key3', 726)])"
      ]
     },
     "execution_count": 38,
     "metadata": {},
     "output_type": "execute_result"
    }
   ],
   "source": [
    "d.items()"
   ]
  },
  {
   "cell_type": "code",
   "execution_count": 39,
   "id": "e5aa949a",
   "metadata": {},
   "outputs": [
    {
     "name": "stdout",
     "output_type": "stream",
     "text": [
      "('key1', 'value1')\n",
      "('key2', 23)\n",
      "('key3', 726)\n"
     ]
    }
   ],
   "source": [
    "for i in d.items():\n",
    "    print(i)"
   ]
  },
  {
   "cell_type": "code",
   "execution_count": 40,
   "id": "c93ffef1",
   "metadata": {},
   "outputs": [
    {
     "data": {
      "text/plain": [
       "dict_keys(['key1', 'key2', 'key3'])"
      ]
     },
     "execution_count": 40,
     "metadata": {},
     "output_type": "execute_result"
    }
   ],
   "source": [
    "d.keys()"
   ]
  },
  {
   "cell_type": "code",
   "execution_count": 41,
   "id": "57533d5b",
   "metadata": {},
   "outputs": [
    {
     "name": "stdout",
     "output_type": "stream",
     "text": [
      "key1\n",
      "key2\n",
      "key3\n"
     ]
    }
   ],
   "source": [
    "for i in d.keys():\n",
    "    print(i)"
   ]
  },
  {
   "cell_type": "code",
   "execution_count": 42,
   "id": "bc817f8b",
   "metadata": {},
   "outputs": [
    {
     "data": {
      "text/plain": [
       "dict_values(['value1', 23, 726])"
      ]
     },
     "execution_count": 42,
     "metadata": {},
     "output_type": "execute_result"
    }
   ],
   "source": [
    "d.values()"
   ]
  },
  {
   "cell_type": "code",
   "execution_count": 43,
   "id": "a8e7432e",
   "metadata": {},
   "outputs": [
    {
     "name": "stdout",
     "output_type": "stream",
     "text": [
      "value1\n",
      "23\n",
      "726\n"
     ]
    }
   ],
   "source": [
    "for i in d.values():\n",
    "    print(i)"
   ]
  },
  {
   "cell_type": "markdown",
   "id": "83705929",
   "metadata": {},
   "source": [
    "### string in loops"
   ]
  },
  {
   "cell_type": "code",
   "execution_count": 44,
   "id": "849348b9",
   "metadata": {},
   "outputs": [],
   "source": [
    "s = \"Rajkumar S Hajgude\""
   ]
  },
  {
   "cell_type": "code",
   "execution_count": 45,
   "id": "5eb5e039",
   "metadata": {},
   "outputs": [
    {
     "data": {
      "text/plain": [
       "18"
      ]
     },
     "execution_count": 45,
     "metadata": {},
     "output_type": "execute_result"
    }
   ],
   "source": [
    "len(s)"
   ]
  },
  {
   "cell_type": "code",
   "execution_count": 46,
   "id": "9d1992d8",
   "metadata": {},
   "outputs": [
    {
     "name": "stdout",
     "output_type": "stream",
     "text": [
      "18\n"
     ]
    }
   ],
   "source": [
    "length = 0\n",
    "for i in s:\n",
    "    length = length +1\n",
    "    \n",
    "print(length)"
   ]
  },
  {
   "cell_type": "markdown",
   "id": "c0d541ce",
   "metadata": {},
   "source": [
    "#### reverse string"
   ]
  },
  {
   "cell_type": "code",
   "execution_count": 47,
   "id": "932ac3c8",
   "metadata": {},
   "outputs": [
    {
     "data": {
      "text/plain": [
       "'edugjaH S ramukjaR'"
      ]
     },
     "execution_count": 47,
     "metadata": {},
     "output_type": "execute_result"
    }
   ],
   "source": [
    "s[::-1]"
   ]
  },
  {
   "cell_type": "code",
   "execution_count": 48,
   "id": "971dd0e7",
   "metadata": {},
   "outputs": [
    {
     "name": "stdout",
     "output_type": "stream",
     "text": [
      "edugjaH S ramukjaR"
     ]
    }
   ],
   "source": [
    "for i in range(len(s)-1, -1, -1):\n",
    "    print(s[i], end=\"\")"
   ]
  },
  {
   "cell_type": "code",
   "execution_count": 49,
   "id": "eb6cc5ae",
   "metadata": {},
   "outputs": [
    {
     "name": "stdout",
     "output_type": "stream",
     "text": [
      "edugjaH S ramukjaR"
     ]
    }
   ],
   "source": [
    "l = len(s)-1\n",
    "while l >=0:\n",
    "    print(s[l], end=\"\")\n",
    "    l= l-1"
   ]
  },
  {
   "cell_type": "code",
   "execution_count": 50,
   "id": "32ed4e0d",
   "metadata": {},
   "outputs": [],
   "source": [
    "v = \"aAeEiIoOuU\""
   ]
  },
  {
   "cell_type": "code",
   "execution_count": 51,
   "id": "276e2bae",
   "metadata": {},
   "outputs": [
    {
     "name": "stdout",
     "output_type": "stream",
     "text": [
      "Rjkmr S Hjgd"
     ]
    }
   ],
   "source": [
    "for i in s:\n",
    "    if i not in v:\n",
    "        print(i, end=\"\")"
   ]
  },
  {
   "cell_type": "code",
   "execution_count": 52,
   "id": "3d5df5cc",
   "metadata": {},
   "outputs": [],
   "source": [
    "s=\"nitin\""
   ]
  },
  {
   "cell_type": "code",
   "execution_count": 53,
   "id": "3cf201c7",
   "metadata": {},
   "outputs": [
    {
     "name": "stdout",
     "output_type": "stream",
     "text": [
      "palindrom\n"
     ]
    }
   ],
   "source": [
    "l = len(s)-1\n",
    "for i in range(len(s)):\n",
    "    if i >= l-i:\n",
    "        print(\"palindrom\")\n",
    "        break\n",
    "        \n",
    "    if(s[i] == s[l-i]):\n",
    "        continue"
   ]
  },
  {
   "cell_type": "code",
   "execution_count": 54,
   "id": "740275c3",
   "metadata": {},
   "outputs": [
    {
     "name": "stdout",
     "output_type": "stream",
     "text": [
      "palindrom\n"
     ]
    }
   ],
   "source": [
    "s=\"nitin\"\n",
    "l = len(s)-1\n",
    "for i in range(len(s)):\n",
    "    if(s[i] != s[l-i]):\n",
    "        break\n",
    "else:\n",
    "    print(\"palindrom\")"
   ]
  },
  {
   "cell_type": "code",
   "execution_count": 61,
   "id": "4bb773ee",
   "metadata": {},
   "outputs": [],
   "source": [
    "d[\"ke4\"]='Key4'"
   ]
  },
  {
   "cell_type": "code",
   "execution_count": 64,
   "id": "bbb95264",
   "metadata": {},
   "outputs": [
    {
     "name": "stdout",
     "output_type": "stream",
     "text": [
      "['ke4'] ['key1', 'key2', 'key3']\n"
     ]
    }
   ],
   "source": [
    "l1=[]\n",
    "l2=[]\n",
    "for key in d:\n",
    "    if len(key) < 4:\n",
    "        l1.append(key)\n",
    "    else:\n",
    "        l2.append(key)\n",
    "        \n",
    "print(l1,l2)"
   ]
  },
  {
   "cell_type": "code",
   "execution_count": 66,
   "id": "3a4c87b0",
   "metadata": {},
   "outputs": [],
   "source": [
    "new_dict = {'dict_1':{'k1':61, \n",
    "                    'k2':82,\n",
    "                   'k7':23},\n",
    "           'dict_2':{'k3':24,\n",
    "                   'k4':34, \n",
    "                   'k6':12}\n",
    "           }"
   ]
  },
  {
   "cell_type": "code",
   "execution_count": 72,
   "id": "739933f4",
   "metadata": {},
   "outputs": [
    {
     "name": "stdout",
     "output_type": "stream",
     "text": [
      "dict_1 82\n",
      "dict_2 34\n"
     ]
    }
   ],
   "source": [
    "for key, temp_dict in new_dict.items():\n",
    "    num = 0\n",
    "    for d in temp_dict.values():\n",
    "        if d > num:\n",
    "            num = d\n",
    "    print(key, num)\n",
    "    "
   ]
  },
  {
   "cell_type": "code",
   "execution_count": 74,
   "id": "e2743fd6",
   "metadata": {},
   "outputs": [
    {
     "name": "stdout",
     "output_type": "stream",
     "text": [
      "82\n",
      "34\n"
     ]
    }
   ],
   "source": [
    "for temp_dict in new_dict.values():\n",
    "    print(max(temp_dict.values()))"
   ]
  },
  {
   "cell_type": "code",
   "execution_count": 92,
   "id": "ff3abbbc",
   "metadata": {},
   "outputs": [],
   "source": [
    "new_dict['g']=34\n",
    "new_dict['h']=[2,67,32,12,43]\n",
    "new_dict['i']=(34,223,12)\n",
    "new_dict['ke']=\"asdf\""
   ]
  },
  {
   "cell_type": "code",
   "execution_count": 77,
   "id": "1639a624",
   "metadata": {},
   "outputs": [
    {
     "data": {
      "text/plain": [
       "{'dict_1': {'k1': 61, 'k2': 82, 'k7': 23},\n",
       " 'dict_2': {'k3': 24, 'k4': 34, 'k6': 12},\n",
       " 'g': 34,\n",
       " 'h': [2, 67, 32, 12, 43],\n",
       " 'i': (34, 23, 12),\n",
       " 'ke': 'asdf'}"
      ]
     },
     "execution_count": 77,
     "metadata": {},
     "output_type": "execute_result"
    }
   ],
   "source": [
    "new_dict"
   ]
  },
  {
   "cell_type": "code",
   "execution_count": 93,
   "id": "eaee5a9e",
   "metadata": {},
   "outputs": [
    {
     "data": {
      "text/plain": [
       "223"
      ]
     },
     "execution_count": 93,
     "metadata": {},
     "output_type": "execute_result"
    }
   ],
   "source": [
    "l = []\n",
    "for i in new_dict.values():\n",
    "    if type(i) == dict:\n",
    "        l.append(max(i.values()))\n",
    "    if type(i) == list:\n",
    "        l.append(max(i))\n",
    "    if type(i) == tuple:\n",
    "        l.append(max(i))\n",
    "max(l)"
   ]
  },
  {
   "cell_type": "code",
   "execution_count": null,
   "id": "d66e9bdf",
   "metadata": {},
   "outputs": [],
   "source": []
  },
  {
   "cell_type": "code",
   "execution_count": null,
   "id": "eb8a5bdf",
   "metadata": {},
   "outputs": [],
   "source": []
  }
 ],
 "metadata": {
  "kernelspec": {
   "display_name": "Python 3 (ipykernel)",
   "language": "python",
   "name": "python3"
  },
  "language_info": {
   "codemirror_mode": {
    "name": "ipython",
    "version": 3
   },
   "file_extension": ".py",
   "mimetype": "text/x-python",
   "name": "python",
   "nbconvert_exporter": "python",
   "pygments_lexer": "ipython3",
   "version": "3.9.12"
  }
 },
 "nbformat": 4,
 "nbformat_minor": 5
}
