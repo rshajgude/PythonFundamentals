{
 "cells": [
  {
   "cell_type": "code",
   "execution_count": 2,
   "id": "cfc4d38c",
   "metadata": {},
   "outputs": [],
   "source": [
    "num = 5"
   ]
  },
  {
   "cell_type": "code",
   "execution_count": 5,
   "id": "8082f904",
   "metadata": {},
   "outputs": [],
   "source": [
    "while num >= 0:\n",
    "    print(f\"num = {num}\")\n",
    "    num = num -1"
   ]
  },
  {
   "cell_type": "markdown",
   "id": "f12eda5f",
   "metadata": {},
   "source": [
    "<li>while loop need to have a condition which will become false after some definite steps\n",
    " to avoid infinite loop\n",
    "<li>Always note that exit condition is closer in each iteration"
   ]
  },
  {
   "cell_type": "code",
   "execution_count": 9,
   "id": "8103cb11",
   "metadata": {},
   "outputs": [],
   "source": [
    "a =1"
   ]
  },
  {
   "cell_type": "code",
   "execution_count": null,
   "id": "2173f22a",
   "metadata": {},
   "outputs": [],
   "source": []
  },
  {
   "cell_type": "code",
   "execution_count": null,
   "id": "6d207a06",
   "metadata": {},
   "outputs": [],
   "source": []
  },
  {
   "cell_type": "code",
   "execution_count": null,
   "id": "1a4d1051",
   "metadata": {},
   "outputs": [],
   "source": []
  },
  {
   "cell_type": "code",
   "execution_count": null,
   "id": "bc2a6a65",
   "metadata": {},
   "outputs": [],
   "source": []
  },
  {
   "cell_type": "code",
   "execution_count": null,
   "id": "3c21f286",
   "metadata": {},
   "outputs": [],
   "source": []
  }
 ],
 "metadata": {
  "kernelspec": {
   "display_name": "Python 3 (ipykernel)",
   "language": "python",
   "name": "python3"
  },
  "language_info": {
   "codemirror_mode": {
    "name": "ipython",
    "version": 3
   },
   "file_extension": ".py",
   "mimetype": "text/x-python",
   "name": "python",
   "nbconvert_exporter": "python",
   "pygments_lexer": "ipython3",
   "version": "3.9.12"
  }
 },
 "nbformat": 4,
 "nbformat_minor": 5
}
