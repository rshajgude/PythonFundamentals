{
 "cells": [
  {
   "cell_type": "code",
   "execution_count": 45,
   "id": "25af1827",
   "metadata": {},
   "outputs": [
    {
     "data": {
      "text/plain": [
       "'Rajkumar'"
      ]
     },
     "execution_count": 45,
     "metadata": {},
     "output_type": "execute_result"
    }
   ],
   "source": [
    "s=\"Rajkumar\"\n",
    "s"
   ]
  },
  {
   "cell_type": "code",
   "execution_count": 14,
   "id": "2016f853",
   "metadata": {},
   "outputs": [
    {
     "name": "stdout",
     "output_type": "stream",
     "text": [
      "Rajkumar\n"
     ]
    }
   ],
   "source": [
    "print(s)"
   ]
  },
  {
   "cell_type": "code",
   "execution_count": 16,
   "id": "dd0c432d",
   "metadata": {},
   "outputs": [
    {
     "data": {
      "text/plain": [
       "8"
      ]
     },
     "execution_count": 16,
     "metadata": {},
     "output_type": "execute_result"
    }
   ],
   "source": [
    "len(s)"
   ]
  },
  {
   "cell_type": "code",
   "execution_count": 17,
   "id": "6aa6be46",
   "metadata": {},
   "outputs": [
    {
     "data": {
      "text/plain": [
       "str"
      ]
     },
     "execution_count": 17,
     "metadata": {},
     "output_type": "execute_result"
    }
   ],
   "source": [
    "type(s)"
   ]
  },
  {
   "cell_type": "code",
   "execution_count": 6,
   "id": "ced7b32d",
   "metadata": {},
   "outputs": [
    {
     "data": {
      "text/plain": [
       "'k'"
      ]
     },
     "execution_count": 6,
     "metadata": {},
     "output_type": "execute_result"
    }
   ],
   "source": [
    "s[3]"
   ]
  },
  {
   "cell_type": "code",
   "execution_count": 12,
   "id": "f6d38ff1",
   "metadata": {},
   "outputs": [
    {
     "data": {
      "text/plain": [
       "'Raj'"
      ]
     },
     "execution_count": 12,
     "metadata": {},
     "output_type": "execute_result"
    }
   ],
   "source": [
    "s[0:3]"
   ]
  },
  {
   "cell_type": "code",
   "execution_count": 9,
   "id": "8a075ccf",
   "metadata": {},
   "outputs": [
    {
     "ename": "IndexError",
     "evalue": "string index out of range",
     "output_type": "error",
     "traceback": [
      "\u001b[1;31m---------------------------------------------------------------------------\u001b[0m",
      "\u001b[1;31mIndexError\u001b[0m                                Traceback (most recent call last)",
      "Input \u001b[1;32mIn [9]\u001b[0m, in \u001b[0;36m<cell line: 2>\u001b[1;34m()\u001b[0m\n\u001b[0;32m      1\u001b[0m \u001b[38;5;66;03m#this is error\u001b[39;00m\n\u001b[1;32m----> 2\u001b[0m \u001b[43ms\u001b[49m\u001b[43m[\u001b[49m\u001b[38;5;241;43m100\u001b[39;49m\u001b[43m]\u001b[49m\n",
      "\u001b[1;31mIndexError\u001b[0m: string index out of range"
     ]
    }
   ],
   "source": [
    "#this is error\n",
    "s[100]"
   ]
  },
  {
   "cell_type": "code",
   "execution_count": 11,
   "id": "bbcb969c",
   "metadata": {},
   "outputs": [
    {
     "data": {
      "text/plain": [
       "'ajkumar'"
      ]
     },
     "execution_count": 11,
     "metadata": {},
     "output_type": "execute_result"
    }
   ],
   "source": [
    "#This is not an error\n",
    "s[1:300]"
   ]
  },
  {
   "cell_type": "code",
   "execution_count": 29,
   "id": "fb71ae9b",
   "metadata": {},
   "outputs": [
    {
     "data": {
      "text/plain": [
       "'i'"
      ]
     },
     "execution_count": 29,
     "metadata": {},
     "output_type": "execute_result"
    }
   ],
   "source": [
    "s[-1]"
   ]
  },
  {
   "cell_type": "code",
   "execution_count": 31,
   "id": "16bce96f",
   "metadata": {},
   "outputs": [
    {
     "data": {
      "text/plain": [
       "'svn'"
      ]
     },
     "execution_count": 31,
     "metadata": {},
     "output_type": "execute_result"
    }
   ],
   "source": [
    "s[1:7:2]"
   ]
  },
  {
   "cell_type": "code",
   "execution_count": 53,
   "id": "68c4de75",
   "metadata": {},
   "outputs": [
    {
     "data": {
      "text/plain": [
       "'ramukjaR'"
      ]
     },
     "execution_count": 53,
     "metadata": {},
     "output_type": "execute_result"
    }
   ],
   "source": [
    "s[::-1]"
   ]
  },
  {
   "cell_type": "code",
   "execution_count": 55,
   "id": "ff8f2a0c",
   "metadata": {},
   "outputs": [
    {
     "data": {
      "text/plain": [
       "'Rajkumar'"
      ]
     },
     "execution_count": 55,
     "metadata": {},
     "output_type": "execute_result"
    }
   ],
   "source": [
    "s[::]"
   ]
  },
  {
   "cell_type": "code",
   "execution_count": 57,
   "id": "5c665227",
   "metadata": {},
   "outputs": [
    {
     "data": {
      "text/plain": [
       "''"
      ]
     },
     "execution_count": 57,
     "metadata": {},
     "output_type": "execute_result"
    }
   ],
   "source": [
    "s[-5:-2:-1]"
   ]
  },
  {
   "cell_type": "code",
   "execution_count": 73,
   "id": "26db17a1",
   "metadata": {},
   "outputs": [
    {
     "data": {
      "text/plain": [
       "'RajkumarRajkumarRajkumar'"
      ]
     },
     "execution_count": 73,
     "metadata": {},
     "output_type": "execute_result"
    }
   ],
   "source": [
    "3*s"
   ]
  },
  {
   "cell_type": "code",
   "execution_count": 64,
   "id": "458ee666",
   "metadata": {},
   "outputs": [
    {
     "data": {
      "text/plain": [
       "'RajkumarRajkumar'"
      ]
     },
     "execution_count": 64,
     "metadata": {},
     "output_type": "execute_result"
    }
   ],
   "source": [
    "s+s"
   ]
  },
  {
   "cell_type": "code",
   "execution_count": 71,
   "id": "3d1072d2",
   "metadata": {},
   "outputs": [
    {
     "name": "stdout",
     "output_type": "stream",
     "text": [
      "5 Rajkumar\n"
     ]
    }
   ],
   "source": [
    "print(5, s)"
   ]
  },
  {
   "cell_type": "code",
   "execution_count": 75,
   "id": "4e5c9563",
   "metadata": {},
   "outputs": [
    {
     "data": {
      "text/plain": [
       "'5Rajkumar'"
      ]
     },
     "execution_count": 75,
     "metadata": {},
     "output_type": "execute_result"
    }
   ],
   "source": [
    "5 + s"
   ]
  },
  {
   "cell_type": "code",
   "execution_count": 105,
   "id": "21cb65fe",
   "metadata": {},
   "outputs": [
    {
     "data": {
      "text/plain": [
       "'edugjah inivhsA ramukjaR'"
      ]
     },
     "execution_count": 105,
     "metadata": {},
     "output_type": "execute_result"
    }
   ],
   "source": [
    "s = \"Rajkumar Ashvini hajgude\"\n",
    "s[::-1]"
   ]
  },
  {
   "cell_type": "code",
   "execution_count": 86,
   "id": "c0b29c53",
   "metadata": {},
   "outputs": [],
   "source": [
    "s = s.replace(\" \", \"\")"
   ]
  },
  {
   "cell_type": "code",
   "execution_count": 97,
   "id": "e3327c14",
   "metadata": {},
   "outputs": [
    {
     "data": {
      "text/plain": [
       "['Ashvini', 'Rajkumar']"
      ]
     },
     "execution_count": 97,
     "metadata": {},
     "output_type": "execute_result"
    }
   ],
   "source": [
    "s.split()[::-1]"
   ]
  },
  {
   "cell_type": "code",
   "execution_count": 106,
   "id": "cf6f48d1",
   "metadata": {},
   "outputs": [
    {
     "data": {
      "text/plain": [
       "'Rajkumar Ashvini Hajgude'"
      ]
     },
     "execution_count": 106,
     "metadata": {},
     "output_type": "execute_result"
    }
   ],
   "source": [
    "s.title()"
   ]
  },
  {
   "cell_type": "code",
   "execution_count": 115,
   "id": "7574752d",
   "metadata": {},
   "outputs": [
    {
     "name": "stdout",
     "output_type": "stream",
     "text": [
      "1\n",
      "6\n",
      "18\n"
     ]
    }
   ],
   "source": [
    "start = 0\n",
    "while s.find(\"a\", start) != -1:\n",
    "    print(s.find(\"a\", start))\n",
    "    start = s.find(\"a\", start) +1"
   ]
  },
  {
   "cell_type": "code",
   "execution_count": 118,
   "id": "98dfb0b9",
   "metadata": {},
   "outputs": [
    {
     "data": {
      "text/plain": [
       "2"
      ]
     },
     "execution_count": 118,
     "metadata": {},
     "output_type": "execute_result"
    }
   ],
   "source": [
    "s.count('aj')"
   ]
  },
  {
   "cell_type": "code",
   "execution_count": 140,
   "id": "68d17156",
   "metadata": {},
   "outputs": [],
   "source": [
    "a=\"*\""
   ]
  },
  {
   "cell_type": "code",
   "execution_count": 136,
   "id": "6d540183",
   "metadata": {},
   "outputs": [
    {
     "data": {
      "text/plain": [
       "'*-----*-----*-----*-----*-----*-----*-----*-----*-----*-----*-----*-----*-----*-----*-----*-----*-----*-----*-----*-----*-----*-----*-----*-----*'"
      ]
     },
     "execution_count": 136,
     "metadata": {},
     "output_type": "execute_result"
    }
   ],
   "source": [
    "\"-----\".join(a)"
   ]
  },
  {
   "cell_type": "code",
   "execution_count": 125,
   "id": "6256dece",
   "metadata": {},
   "outputs": [
    {
     "data": {
      "text/plain": [
       "['R', 'a', 'j', 'k', 'u', 'm', 'a', 'r']"
      ]
     },
     "execution_count": 125,
     "metadata": {},
     "output_type": "execute_result"
    }
   ],
   "source": [
    "list(a)"
   ]
  },
  {
   "cell_type": "code",
   "execution_count": 142,
   "id": "f21f4c87",
   "metadata": {},
   "outputs": [
    {
     "data": {
      "text/plain": [
       "'-----------------------***------------------------'"
      ]
     },
     "execution_count": 142,
     "metadata": {},
     "output_type": "execute_result"
    }
   ],
   "source": [
    "a.center(50, \"-\")\n",
    "str(a*3).center(50, \"-\")"
   ]
  },
  {
   "cell_type": "code",
   "execution_count": 158,
   "id": "3016d857",
   "metadata": {},
   "outputs": [
    {
     "name": "stdout",
     "output_type": "stream",
     "text": [
      "------------------------#------------------------\n",
      "-----------------------###-----------------------\n",
      "----------------------#####----------------------\n",
      "---------------------#######---------------------\n",
      "--------------------#########--------------------\n",
      "-------------------###########-------------------\n",
      "------------------#############------------------\n",
      "-----------------###############-----------------\n",
      "----------------#################----------------\n",
      "---------------###################---------------\n",
      "--------------#####################--------------\n",
      "-------------#######################-------------\n",
      "------------#########################------------\n",
      "-----------###########################-----------\n",
      "----------#############################----------\n",
      "---------###############################---------\n",
      "--------#################################--------\n",
      "-------###################################-------\n",
      "------#####################################------\n",
      "-----#######################################-----\n",
      "----#########################################----\n",
      "---###########################################---\n",
      "--#############################################--\n",
      "-###############################################-\n",
      "#################################################\n"
     ]
    }
   ],
   "source": [
    "for i in range(1,50,2):\n",
    "    print(str(\"#\"*i).center(49, \"-\"))"
   ]
  },
  {
   "cell_type": "code",
   "execution_count": 167,
   "id": "7eb61710",
   "metadata": {},
   "outputs": [
    {
     "data": {
      "text/plain": [
       "True"
      ]
     },
     "execution_count": 167,
     "metadata": {},
     "output_type": "execute_result"
    }
   ],
   "source": [
    "s='    '\n",
    "s.isspace()"
   ]
  },
  {
   "cell_type": "code",
   "execution_count": 168,
   "id": "687a9598",
   "metadata": {},
   "outputs": [
    {
     "data": {
      "text/plain": [
       "False"
      ]
     },
     "execution_count": 168,
     "metadata": {},
     "output_type": "execute_result"
    }
   ],
   "source": [
    "s == \" \" "
   ]
  },
  {
   "cell_type": "code",
   "execution_count": null,
   "id": "71d5ecb5",
   "metadata": {},
   "outputs": [],
   "source": []
  },
  {
   "cell_type": "code",
   "execution_count": null,
   "id": "d2f3292b",
   "metadata": {},
   "outputs": [],
   "source": []
  },
  {
   "cell_type": "code",
   "execution_count": null,
   "id": "aa05d2b9",
   "metadata": {},
   "outputs": [],
   "source": []
  },
  {
   "cell_type": "code",
   "execution_count": null,
   "id": "6a1c888d",
   "metadata": {},
   "outputs": [],
   "source": []
  }
 ],
 "metadata": {
  "kernelspec": {
   "display_name": "Python 3 (ipykernel)",
   "language": "python",
   "name": "python3"
  },
  "language_info": {
   "codemirror_mode": {
    "name": "ipython",
    "version": 3
   },
   "file_extension": ".py",
   "mimetype": "text/x-python",
   "name": "python",
   "nbconvert_exporter": "python",
   "pygments_lexer": "ipython3",
   "version": "3.9.12"
  }
 },
 "nbformat": 4,
 "nbformat_minor": 5
}
