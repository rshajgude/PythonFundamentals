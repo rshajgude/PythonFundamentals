{
 "cells": [
  {
   "cell_type": "code",
   "execution_count": 86,
   "id": "b3c32a88",
   "metadata": {},
   "outputs": [],
   "source": [
    "def test_fn():\n",
    "    print(\"This is my first function\")"
   ]
  },
  {
   "cell_type": "code",
   "execution_count": 87,
   "id": "53fe9d31",
   "metadata": {},
   "outputs": [
    {
     "name": "stdout",
     "output_type": "stream",
     "text": [
      "This is my first function\n"
     ]
    }
   ],
   "source": [
    "test_fn()"
   ]
  },
  {
   "cell_type": "code",
   "execution_count": 88,
   "id": "afd14bcc",
   "metadata": {},
   "outputs": [
    {
     "name": "stdout",
     "output_type": "stream",
     "text": [
      "This is my first function\n"
     ]
    },
    {
     "data": {
      "text/plain": [
       "NoneType"
      ]
     },
     "execution_count": 88,
     "metadata": {},
     "output_type": "execute_result"
    }
   ],
   "source": [
    "## By default function returns NoneType\n",
    "type(test_fn())"
   ]
  },
  {
   "cell_type": "code",
   "execution_count": 89,
   "id": "5a9cbb6b",
   "metadata": {},
   "outputs": [
    {
     "name": "stdout",
     "output_type": "stream",
     "text": [
      "This is my first function\n",
      "None\n"
     ]
    }
   ],
   "source": [
    "print(test_fn())"
   ]
  },
  {
   "cell_type": "code",
   "execution_count": 90,
   "id": "70cd1bf2",
   "metadata": {},
   "outputs": [],
   "source": [
    "def test_fn():\n",
    "    print(\"This is my first function\")\n",
    "    return 5"
   ]
  },
  {
   "cell_type": "code",
   "execution_count": 91,
   "id": "3f4f3ff8",
   "metadata": {},
   "outputs": [
    {
     "name": "stdout",
     "output_type": "stream",
     "text": [
      "This is my first function\n"
     ]
    },
    {
     "data": {
      "text/plain": [
       "int"
      ]
     },
     "execution_count": 91,
     "metadata": {},
     "output_type": "execute_result"
    }
   ],
   "source": [
    "type(test_fn())"
   ]
  },
  {
   "cell_type": "code",
   "execution_count": 92,
   "id": "a053fa27",
   "metadata": {},
   "outputs": [
    {
     "name": "stdout",
     "output_type": "stream",
     "text": [
      "This is my first function\n",
      "5\n"
     ]
    }
   ],
   "source": [
    "print(test_fn())"
   ]
  },
  {
   "cell_type": "markdown",
   "id": "034e0856",
   "metadata": {},
   "source": [
    "#### remember that if youy assign variable = function()\n",
    "#### then variable holds onlt return value and not any other print OR any other value"
   ]
  },
  {
   "cell_type": "code",
   "execution_count": 93,
   "id": "08c3ba47",
   "metadata": {},
   "outputs": [],
   "source": [
    "## function can return multiple values\n",
    "def test_fn():\n",
    "    print(\"This is my first function\")\n",
    "    return 5, 7"
   ]
  },
  {
   "cell_type": "code",
   "execution_count": 94,
   "id": "2033fbc6",
   "metadata": {},
   "outputs": [
    {
     "name": "stdout",
     "output_type": "stream",
     "text": [
      "This is my first function\n"
     ]
    }
   ],
   "source": [
    "a = test_fn()"
   ]
  },
  {
   "cell_type": "code",
   "execution_count": 95,
   "id": "6150a282",
   "metadata": {},
   "outputs": [
    {
     "data": {
      "text/plain": [
       "(5, 7)"
      ]
     },
     "execution_count": 95,
     "metadata": {},
     "output_type": "execute_result"
    }
   ],
   "source": [
    "a"
   ]
  },
  {
   "cell_type": "code",
   "execution_count": 96,
   "id": "34de5eea",
   "metadata": {},
   "outputs": [
    {
     "name": "stdout",
     "output_type": "stream",
     "text": [
      "This is my first function\n"
     ]
    }
   ],
   "source": [
    "## you can hold two values in two diff variables\n",
    "a,b = test_fn()"
   ]
  },
  {
   "cell_type": "code",
   "execution_count": 97,
   "id": "d6a27ec4",
   "metadata": {},
   "outputs": [
    {
     "data": {
      "text/plain": [
       "5"
      ]
     },
     "execution_count": 97,
     "metadata": {},
     "output_type": "execute_result"
    }
   ],
   "source": [
    "a"
   ]
  },
  {
   "cell_type": "code",
   "execution_count": 98,
   "id": "497ed49d",
   "metadata": {},
   "outputs": [
    {
     "data": {
      "text/plain": [
       "7"
      ]
     },
     "execution_count": 98,
     "metadata": {},
     "output_type": "execute_result"
    }
   ],
   "source": [
    "b"
   ]
  },
  {
   "cell_type": "code",
   "execution_count": 99,
   "id": "ced8faaf",
   "metadata": {},
   "outputs": [],
   "source": [
    "## filter ints\n",
    "def filter_int(a):\n",
    "    lt = []\n",
    "    if type(a) == list:\n",
    "        for i in a:\n",
    "            if type(i) == int :\n",
    "                lt.append(i)\n",
    "    return lt"
   ]
  },
  {
   "cell_type": "code",
   "execution_count": 100,
   "id": "f53cbb2f",
   "metadata": {},
   "outputs": [
    {
     "data": {
      "text/plain": [
       "[2, 4, 1]"
      ]
     },
     "execution_count": 100,
     "metadata": {},
     "output_type": "execute_result"
    }
   ],
   "source": [
    "filter_int([2,4,1,'a3'])"
   ]
  },
  {
   "cell_type": "code",
   "execution_count": 101,
   "id": "9b91d493",
   "metadata": {},
   "outputs": [],
   "source": [
    "def filter_int(a):\n",
    "    lt = []\n",
    "    if type(a) == list:\n",
    "        for i in a:\n",
    "            if type(i) == int :\n",
    "                lt.append(i)\n",
    "            if (type(i) == tuple) or ( type(i) == list):\n",
    "                for j in i:\n",
    "                    if type(j) == int:\n",
    "                        lt.append(j)\n",
    "    return lt"
   ]
  },
  {
   "cell_type": "code",
   "execution_count": 102,
   "id": "d33975be",
   "metadata": {},
   "outputs": [
    {
     "data": {
      "text/plain": [
       "[2, 4, 1, 4, 5, 6]"
      ]
     },
     "execution_count": 102,
     "metadata": {},
     "output_type": "execute_result"
    }
   ],
   "source": [
    "filter_int([2,4,1,'a3',(4,5,6)])"
   ]
  },
  {
   "cell_type": "code",
   "execution_count": 103,
   "id": "a0104752",
   "metadata": {},
   "outputs": [],
   "source": [
    "def concat_list(a,b):\n",
    "    if type(a) != list:\n",
    "        return \"a is not list\"\n",
    "    if type(b) != list:\n",
    "        return \"b is not list\"\n",
    "    print(a, b)\n",
    "    return a+b"
   ]
  },
  {
   "cell_type": "code",
   "execution_count": 104,
   "id": "e8762420",
   "metadata": {},
   "outputs": [
    {
     "name": "stdout",
     "output_type": "stream",
     "text": [
      "[23, 2, 'sd'] ['a', 63, 'as']\n"
     ]
    }
   ],
   "source": [
    "a = concat_list([23,2,'sd'],['a', 63, 'as'])"
   ]
  },
  {
   "cell_type": "code",
   "execution_count": 105,
   "id": "7ffcb91e",
   "metadata": {},
   "outputs": [
    {
     "data": {
      "text/plain": [
       "[23, 2, 'sd', 'a', 63, 'as']"
      ]
     },
     "execution_count": 105,
     "metadata": {},
     "output_type": "execute_result"
    }
   ],
   "source": [
    "a"
   ]
  },
  {
   "cell_type": "code",
   "execution_count": 106,
   "id": "946f67eb",
   "metadata": {},
   "outputs": [],
   "source": [
    "def draw_triangle(a):\n",
    "    if type(a) != int:\n",
    "        return \"give valid int input\"\n",
    "    for i in range(a+1):\n",
    "        for j in range(i):\n",
    "            print(\" * \", end=\"\")\n",
    "        print(\"\")\n",
    "                "
   ]
  },
  {
   "cell_type": "code",
   "execution_count": 107,
   "id": "72c27492",
   "metadata": {},
   "outputs": [
    {
     "name": "stdout",
     "output_type": "stream",
     "text": [
      "\n",
      " * \n",
      " *  * \n",
      " *  *  * \n",
      " *  *  *  * \n"
     ]
    }
   ],
   "source": [
    "draw_triangle(4)"
   ]
  },
  {
   "cell_type": "code",
   "execution_count": 108,
   "id": "cd70456d",
   "metadata": {},
   "outputs": [],
   "source": [
    "### How to add function dos_string for function\n",
    "def draw_triangle(a):\n",
    "    \"\"\" This is function to draw trianle patterns\"\"\"\n",
    "    if type(a) != int:\n",
    "        return \"give valid int input\"\n",
    "    for i in range(a+1):\n",
    "        for j in range(i):\n",
    "            print(\" * \", end=\"\")\n",
    "        print(\"\")\n",
    "                "
   ]
  },
  {
   "cell_type": "code",
   "execution_count": 109,
   "id": "16b5f988",
   "metadata": {},
   "outputs": [
    {
     "data": {
      "text/plain": [
       "'This is\\nmulti line comment\\n'"
      ]
     },
     "execution_count": 109,
     "metadata": {},
     "output_type": "execute_result"
    }
   ],
   "source": [
    "\"\"\"This is\n",
    "multi line comment\n",
    "\"\"\""
   ]
  },
  {
   "cell_type": "code",
   "execution_count": 110,
   "id": "698bcd17",
   "metadata": {},
   "outputs": [],
   "source": [
    "# Return length of string passed to a function \n",
    "def len_string(s):\n",
    "    if type(s)!= str :\n",
    "        return \"pass a string to function\"\n",
    "    i =0\n",
    "    for ch in s:\n",
    "        i = i +1\n",
    "    return i\n",
    "        "
   ]
  },
  {
   "cell_type": "code",
   "execution_count": 111,
   "id": "d8c20a13",
   "metadata": {},
   "outputs": [
    {
     "data": {
      "text/plain": [
       "6"
      ]
     },
     "execution_count": 111,
     "metadata": {},
     "output_type": "execute_result"
    }
   ],
   "source": [
    "len_string('afdasa')"
   ]
  },
  {
   "cell_type": "code",
   "execution_count": 112,
   "id": "168bf52c",
   "metadata": {},
   "outputs": [],
   "source": [
    "# print index and element inside a list\n",
    "def index_element(lt):\n",
    "    if type(lt)!= list:\n",
    "        return \"Please pass list as parameter\"\n",
    "    i = 0\n",
    "    for element in lt:\n",
    "        print(f\"{element} is present at {i}\")\n",
    "        i = i +1\n",
    "    \n",
    "        "
   ]
  },
  {
   "cell_type": "code",
   "execution_count": 113,
   "id": "da16db17",
   "metadata": {},
   "outputs": [
    {
     "name": "stdout",
     "output_type": "stream",
     "text": [
      "2 is present at 0\n",
      "3 is present at 1\n",
      "2 is present at 2\n",
      "5423 is present at 3\n",
      "452 is present at 4\n"
     ]
    }
   ],
   "source": [
    "index_element([2,3,2,5423,452])"
   ]
  },
  {
   "cell_type": "markdown",
   "id": "1df21ceb",
   "metadata": {},
   "source": [
    "### Function with unknown no of arguments"
   ]
  },
  {
   "cell_type": "markdown",
   "id": "d693d5c1",
   "metadata": {},
   "source": [
    "To hold any number of parameters passed to a function then use * and variable name<br>\n",
    "You can treat that variable as tuple<br>\n",
    "Remember that function can work with zero arguments also"
   ]
  },
  {
   "cell_type": "code",
   "execution_count": 114,
   "id": "f4a81755",
   "metadata": {},
   "outputs": [],
   "source": [
    "def multi_arguements(*args):\n",
    "    print(f\"Function is called with {len(args)} arguments and arguments are {args}\")\n",
    "    print(type(args))"
   ]
  },
  {
   "cell_type": "code",
   "execution_count": 115,
   "id": "fdb11550",
   "metadata": {},
   "outputs": [
    {
     "name": "stdout",
     "output_type": "stream",
     "text": [
      "Function is called with 3 arguments and arguments are (3, 234, 'asd')\n",
      "<class 'tuple'>\n"
     ]
    }
   ],
   "source": [
    "multi_arguements(3,234, 'asd')"
   ]
  },
  {
   "cell_type": "code",
   "execution_count": 116,
   "id": "64ff24ff",
   "metadata": {},
   "outputs": [
    {
     "name": "stdout",
     "output_type": "stream",
     "text": [
      "Function is called with 1 arguments and arguments are (3,)\n",
      "<class 'tuple'>\n"
     ]
    }
   ],
   "source": [
    "multi_arguements(3)"
   ]
  },
  {
   "cell_type": "code",
   "execution_count": 117,
   "id": "0dd2133f",
   "metadata": {},
   "outputs": [
    {
     "name": "stdout",
     "output_type": "stream",
     "text": [
      "Function is called with 0 arguments and arguments are ()\n",
      "<class 'tuple'>\n"
     ]
    }
   ],
   "source": [
    "multi_arguements()"
   ]
  },
  {
   "cell_type": "code",
   "execution_count": 118,
   "id": "87e0439e",
   "metadata": {},
   "outputs": [],
   "source": [
    "def multi_arguements_1(a, *args):\n",
    "    print(f\"Function is called with {len(args)} arguments and arguments are {args}\")\n",
    "    print(f\"a is {a}\")\n",
    "    print(type(args))"
   ]
  },
  {
   "cell_type": "code",
   "execution_count": 119,
   "id": "2bdde746",
   "metadata": {},
   "outputs": [
    {
     "name": "stdout",
     "output_type": "stream",
     "text": [
      "Function is called with 4 arguments and arguments are (4, 32, 4, 3)\n",
      "a is 32\n",
      "<class 'tuple'>\n"
     ]
    }
   ],
   "source": [
    "multi_arguements_1(32,4,32,4,3)"
   ]
  },
  {
   "cell_type": "markdown",
   "id": "7d6fe425",
   "metadata": {},
   "source": [
    "If you have a variable inside function definition but at right side then you need to pass a named parameter while calling"
   ]
  },
  {
   "cell_type": "code",
   "execution_count": 120,
   "id": "dba7962f",
   "metadata": {},
   "outputs": [],
   "source": [
    "def multi_arguements_2(a, *args, b, c):\n",
    "    return a, args , b, c"
   ]
  },
  {
   "cell_type": "code",
   "execution_count": 121,
   "id": "b5ea47bf",
   "metadata": {},
   "outputs": [
    {
     "data": {
      "text/plain": [
       "(1, (2,), 3, 4)"
      ]
     },
     "execution_count": 121,
     "metadata": {},
     "output_type": "execute_result"
    }
   ],
   "source": [
    "multi_arguements_2(1,2,b=3,c=4) # must provide a named parameter while calling"
   ]
  },
  {
   "cell_type": "code",
   "execution_count": 122,
   "id": "bfca6769",
   "metadata": {},
   "outputs": [
    {
     "data": {
      "text/plain": [
       "(1, (), 3, 4)"
      ]
     },
     "execution_count": 122,
     "metadata": {},
     "output_type": "execute_result"
    }
   ],
   "source": [
    "multi_arguements_2(1,b=3,c=4) # must provide a named parameter while calling, *args is empty tuple here"
   ]
  },
  {
   "cell_type": "code",
   "execution_count": 123,
   "id": "a43cca5f",
   "metadata": {},
   "outputs": [
    {
     "data": {
      "text/plain": [
       "(34, ('234', [34, 'sr']), 3, 4)"
      ]
     },
     "execution_count": 123,
     "metadata": {},
     "output_type": "execute_result"
    }
   ],
   "source": [
    "multi_arguements_2(34,'234',[34,'sr'], b=3,c=4)"
   ]
  },
  {
   "cell_type": "markdown",
   "id": "0d9e093d",
   "metadata": {},
   "source": [
    "### key-value paired argument "
   ]
  },
  {
   "cell_type": "code",
   "execution_count": 124,
   "id": "66874afa",
   "metadata": {},
   "outputs": [],
   "source": [
    "def key_value_args(**kwargs):\n",
    "    print(kwargs)"
   ]
  },
  {
   "cell_type": "markdown",
   "id": "dde7885d",
   "metadata": {},
   "source": [
    "Take care while calling function, remember while calling always provide named parameters<br>\n",
    "while calling named parameters, python converts each variable into a key and varible value is dict key value"
   ]
  },
  {
   "cell_type": "code",
   "execution_count": 125,
   "id": "da63b75b",
   "metadata": {},
   "outputs": [
    {
     "name": "stdout",
     "output_type": "stream",
     "text": [
      "{'a': 1, 'b': 2}\n"
     ]
    }
   ],
   "source": [
    "key_value_args(a=1, b=2)"
   ]
  },
  {
   "cell_type": "code",
   "execution_count": null,
   "id": "8b93b940",
   "metadata": {},
   "outputs": [],
   "source": []
  },
  {
   "cell_type": "markdown",
   "id": "2bdd0ee5",
   "metadata": {},
   "source": [
    "Note: Do not enclose your key in a single or double quote"
   ]
  },
  {
   "cell_type": "code",
   "execution_count": 126,
   "id": "d8e4dd51",
   "metadata": {},
   "outputs": [
    {
     "ename": "SyntaxError",
     "evalue": "expression cannot contain assignment, perhaps you meant \"==\"? (2989600446.py, line 1)",
     "output_type": "error",
     "traceback": [
      "\u001b[1;36m  Input \u001b[1;32mIn [126]\u001b[1;36m\u001b[0m\n\u001b[1;33m    key_value_args('a'=1, b=2)\u001b[0m\n\u001b[1;37m                   ^\u001b[0m\n\u001b[1;31mSyntaxError\u001b[0m\u001b[1;31m:\u001b[0m expression cannot contain assignment, perhaps you meant \"==\"?\n"
     ]
    }
   ],
   "source": [
    "key_value_args('a'=1, b=2)"
   ]
  },
  {
   "cell_type": "markdown",
   "id": "cb159c6c",
   "metadata": {},
   "source": [
    "Note: While using *args and **kwargs in same function argument\n",
    "    remember to use *args first and **kwargs later\n",
    "    "
   ]
  },
  {
   "cell_type": "code",
   "execution_count": 128,
   "id": "3062d329",
   "metadata": {},
   "outputs": [
    {
     "ename": "SyntaxError",
     "evalue": "invalid syntax (3300006137.py, line 1)",
     "output_type": "error",
     "traceback": [
      "\u001b[1;36m  Input \u001b[1;32mIn [128]\u001b[1;36m\u001b[0m\n\u001b[1;33m    def test_2(**kwargs, *args):\u001b[0m\n\u001b[1;37m                         ^\u001b[0m\n\u001b[1;31mSyntaxError\u001b[0m\u001b[1;31m:\u001b[0m invalid syntax\n"
     ]
    }
   ],
   "source": [
    "def test_2(**kwargs, *args):\n",
    "    return kwargs, args"
   ]
  },
  {
   "cell_type": "code",
   "execution_count": 131,
   "id": "4d719b53",
   "metadata": {},
   "outputs": [],
   "source": [
    "def test_2(*args, **kwargs):\n",
    "    return kwargs, args"
   ]
  },
  {
   "cell_type": "markdown",
   "id": "17d8cc96",
   "metadata": {},
   "source": [
    "Note: If you have a positional parameter then same variable can not be part of **kwargs in same parameter list"
   ]
  },
  {
   "cell_type": "code",
   "execution_count": 134,
   "id": "e1e86dc2",
   "metadata": {},
   "outputs": [],
   "source": [
    "def test_3(a,*args, **kwargs):\n",
    "    return kwargs, args, a"
   ]
  },
  {
   "cell_type": "code",
   "execution_count": 135,
   "id": "eba4a24f",
   "metadata": {},
   "outputs": [
    {
     "ename": "TypeError",
     "evalue": "test_3() got multiple values for argument 'a'",
     "output_type": "error",
     "traceback": [
      "\u001b[1;31m---------------------------------------------------------------------------\u001b[0m",
      "\u001b[1;31mTypeError\u001b[0m                                 Traceback (most recent call last)",
      "Input \u001b[1;32mIn [135]\u001b[0m, in \u001b[0;36m<cell line: 1>\u001b[1;34m()\u001b[0m\n\u001b[1;32m----> 1\u001b[0m \u001b[43mtest_3\u001b[49m\u001b[43m(\u001b[49m\u001b[38;5;241;43m5\u001b[39;49m\u001b[43m,\u001b[49m\u001b[43m \u001b[49m\u001b[38;5;241;43m4\u001b[39;49m\u001b[43m,\u001b[49m\u001b[38;5;241;43m3\u001b[39;49m\u001b[43m,\u001b[49m\u001b[38;5;241;43m2\u001b[39;49m\u001b[43m,\u001b[49m\u001b[38;5;241;43m1\u001b[39;49m\u001b[43m,\u001b[49m\u001b[43m \u001b[49m\u001b[43ma\u001b[49m\u001b[38;5;241;43m=\u001b[39;49m\u001b[38;5;241;43m4\u001b[39;49m\u001b[43m,\u001b[49m\u001b[43mb\u001b[49m\u001b[38;5;241;43m=\u001b[39;49m\u001b[38;5;241;43m1\u001b[39;49m\u001b[43m)\u001b[49m\n",
      "\u001b[1;31mTypeError\u001b[0m: test_3() got multiple values for argument 'a'"
     ]
    }
   ],
   "source": [
    "test_3(5, 4,3,2,1, a=4,b=1)"
   ]
  },
  {
   "cell_type": "markdown",
   "id": "feb5d535",
   "metadata": {},
   "source": [
    "## Lambda function"
   ]
  },
  {
   "cell_type": "code",
   "execution_count": 138,
   "id": "368283c6",
   "metadata": {},
   "outputs": [
    {
     "data": {
      "text/plain": [
       "<function __main__.<lambda>(a, b)>"
      ]
     },
     "execution_count": 138,
     "metadata": {},
     "output_type": "execute_result"
    }
   ],
   "source": [
    "lambda a,b : a*b"
   ]
  },
  {
   "cell_type": "code",
   "execution_count": 140,
   "id": "8bf02733",
   "metadata": {},
   "outputs": [],
   "source": [
    "var = lambda a,b : a*b"
   ]
  },
  {
   "cell_type": "code",
   "execution_count": 141,
   "id": "5f6d58c7",
   "metadata": {},
   "outputs": [
    {
     "data": {
      "text/plain": [
       "12"
      ]
     },
     "execution_count": 141,
     "metadata": {},
     "output_type": "execute_result"
    }
   ],
   "source": [
    "var(3,4)"
   ]
  },
  {
   "cell_type": "code",
   "execution_count": 147,
   "id": "f1f637c0",
   "metadata": {},
   "outputs": [],
   "source": [
    "x = lambda x : [i for i in x]"
   ]
  },
  {
   "cell_type": "code",
   "execution_count": 149,
   "id": "0f4532f9",
   "metadata": {},
   "outputs": [
    {
     "data": {
      "text/plain": [
       "[3, 4, 5, 6, 2]"
      ]
     },
     "execution_count": 149,
     "metadata": {},
     "output_type": "execute_result"
    }
   ],
   "source": [
    "x([3,4,5,6,2])"
   ]
  },
  {
   "cell_type": "code",
   "execution_count": 159,
   "id": "088f5897",
   "metadata": {},
   "outputs": [
    {
     "data": {
      "text/plain": [
       "[3, 4, 5, 6, 2]"
      ]
     },
     "execution_count": 159,
     "metadata": {},
     "output_type": "execute_result"
    }
   ],
   "source": [
    "x((3,4,5,6,2))"
   ]
  },
  {
   "cell_type": "code",
   "execution_count": 160,
   "id": "23637ad8",
   "metadata": {},
   "outputs": [],
   "source": [
    "a = lambda **kwargs : kwargs"
   ]
  },
  {
   "cell_type": "code",
   "execution_count": 161,
   "id": "28cb985d",
   "metadata": {},
   "outputs": [
    {
     "data": {
      "text/plain": [
       "{'x': 5, 'y': 10}"
      ]
     },
     "execution_count": 161,
     "metadata": {},
     "output_type": "execute_result"
    }
   ],
   "source": [
    "a(x=5, y=10)"
   ]
  },
  {
   "cell_type": "code",
   "execution_count": 162,
   "id": "ccaead06",
   "metadata": {},
   "outputs": [],
   "source": [
    "a = lambda **kwargs : kwargs.values()"
   ]
  },
  {
   "cell_type": "code",
   "execution_count": 163,
   "id": "dfb64fbd",
   "metadata": {},
   "outputs": [
    {
     "data": {
      "text/plain": [
       "dict_values([5, 10])"
      ]
     },
     "execution_count": 163,
     "metadata": {},
     "output_type": "execute_result"
    }
   ],
   "source": [
    "a(x=5, y=10)"
   ]
  },
  {
   "cell_type": "code",
   "execution_count": null,
   "id": "666e736c",
   "metadata": {},
   "outputs": [],
   "source": []
  },
  {
   "cell_type": "markdown",
   "id": "4974f5b2",
   "metadata": {},
   "source": [
    "## variable scope, global . local variable"
   ]
  },
  {
   "cell_type": "code",
   "execution_count": 174,
   "id": "f47adcb8",
   "metadata": {},
   "outputs": [],
   "source": [
    "a = 10\n",
    "def multi_1(b, c=4):\n",
    "    a=5\n",
    "    return b*c + a"
   ]
  },
  {
   "cell_type": "code",
   "execution_count": 175,
   "id": "04d64cc4",
   "metadata": {},
   "outputs": [
    {
     "data": {
      "text/plain": [
       "17"
      ]
     },
     "execution_count": 175,
     "metadata": {},
     "output_type": "execute_result"
    }
   ],
   "source": [
    "multi_1(3,4)"
   ]
  },
  {
   "cell_type": "code",
   "execution_count": 176,
   "id": "7fa35a18",
   "metadata": {},
   "outputs": [
    {
     "data": {
      "text/plain": [
       "21"
      ]
     },
     "execution_count": 176,
     "metadata": {},
     "output_type": "execute_result"
    }
   ],
   "source": [
    "multi_1(4)"
   ]
  },
  {
   "cell_type": "code",
   "execution_count": 178,
   "id": "c192d053",
   "metadata": {},
   "outputs": [
    {
     "data": {
      "text/plain": [
       "10"
      ]
     },
     "execution_count": 178,
     "metadata": {},
     "output_type": "execute_result"
    }
   ],
   "source": [
    "a"
   ]
  },
  {
   "cell_type": "code",
   "execution_count": null,
   "id": "9436e292",
   "metadata": {},
   "outputs": [],
   "source": []
  },
  {
   "cell_type": "code",
   "execution_count": null,
   "id": "c74d6727",
   "metadata": {},
   "outputs": [],
   "source": []
  },
  {
   "cell_type": "code",
   "execution_count": null,
   "id": "43faa73d",
   "metadata": {},
   "outputs": [],
   "source": []
  },
  {
   "cell_type": "code",
   "execution_count": null,
   "id": "005d8c9a",
   "metadata": {},
   "outputs": [],
   "source": []
  },
  {
   "cell_type": "code",
   "execution_count": null,
   "id": "7d70e28a",
   "metadata": {},
   "outputs": [],
   "source": []
  },
  {
   "cell_type": "code",
   "execution_count": null,
   "id": "f099d348",
   "metadata": {},
   "outputs": [],
   "source": []
  }
 ],
 "metadata": {
  "kernelspec": {
   "display_name": "Python 3 (ipykernel)",
   "language": "python",
   "name": "python3"
  },
  "language_info": {
   "codemirror_mode": {
    "name": "ipython",
    "version": 3
   },
   "file_extension": ".py",
   "mimetype": "text/x-python",
   "name": "python",
   "nbconvert_exporter": "python",
   "pygments_lexer": "ipython3",
   "version": "3.9.12"
  }
 },
 "nbformat": 4,
 "nbformat_minor": 5
}
