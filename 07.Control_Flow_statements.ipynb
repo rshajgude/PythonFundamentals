{
 "cells": [
  {
   "cell_type": "code",
   "execution_count": 1,
   "id": "8fed47e8",
   "metadata": {},
   "outputs": [],
   "source": [
    "a = 10"
   ]
  },
  {
   "cell_type": "code",
   "execution_count": 3,
   "id": "663eff7a",
   "metadata": {},
   "outputs": [
    {
     "data": {
      "text/plain": [
       "True"
      ]
     },
     "execution_count": 3,
     "metadata": {},
     "output_type": "execute_result"
    }
   ],
   "source": [
    "# Expression always returns true or False\n",
    "a < 15"
   ]
  },
  {
   "cell_type": "code",
   "execution_count": 5,
   "id": "409aca44",
   "metadata": {},
   "outputs": [
    {
     "name": "stdout",
     "output_type": "stream",
     "text": [
      "Expression is true\n"
     ]
    }
   ],
   "source": [
    "if a < 15 :\n",
    "    print('Expression is true')"
   ]
  },
  {
   "cell_type": "code",
   "execution_count": 6,
   "id": "72927acc",
   "metadata": {},
   "outputs": [],
   "source": [
    "# indentetion is very improtant in python as we dont have {}"
   ]
  },
  {
   "cell_type": "code",
   "execution_count": null,
   "id": "cf4428da",
   "metadata": {},
   "outputs": [],
   "source": [
    "if a < 15:\n",
    "    pass # pass is a reserved code used to put a dummy statement where "
   ]
  },
  {
   "cell_type": "code",
   "execution_count": 8,
   "id": "a570e9c0",
   "metadata": {},
   "outputs": [
    {
     "name": "stdout",
     "output_type": "stream",
     "text": [
      "a is larger than 5\n"
     ]
    }
   ],
   "source": [
    "if a < 5:\n",
    "    print('a is smaller than 5')\n",
    "else:\n",
    "    print('a is larger than 5')"
   ]
  },
  {
   "cell_type": "code",
   "execution_count": 11,
   "id": "39d257ba",
   "metadata": {},
   "outputs": [],
   "source": [
    "marks = 65"
   ]
  },
  {
   "cell_type": "code",
   "execution_count": 12,
   "id": "42d4e368",
   "metadata": {},
   "outputs": [
    {
     "name": "stdout",
     "output_type": "stream",
     "text": [
      "first class\n"
     ]
    }
   ],
   "source": [
    "if marks > 75:\n",
    "    print('distinction')\n",
    "elif marks > 60:\n",
    "    print('first class')\n",
    "elif marks > 50:\n",
    "    print('second class')\n",
    "else:\n",
    "    print('pass')"
   ]
  },
  {
   "cell_type": "markdown",
   "id": "fbed7149",
   "metadata": {},
   "source": [
    "#### Nested if"
   ]
  },
  {
   "cell_type": "code",
   "execution_count": 16,
   "id": "233e4da9",
   "metadata": {},
   "outputs": [
    {
     "name": "stdout",
     "output_type": "stream",
     "text": [
      "eligible for exam with fees\n"
     ]
    }
   ],
   "source": [
    "age = 37\n",
    "gender = 'Female'\n",
    "if age <= 35 :\n",
    "    if gender == 'Male':\n",
    "        print('eligible for exam')\n",
    "    else:\n",
    "        print('eligible for exam without fees')\n",
    "else:\n",
    "    if gender == 'Male':\n",
    "        print('Not eligible for exam')\n",
    "    else:\n",
    "        print('eligible for exam with fees')"
   ]
  },
  {
   "cell_type": "code",
   "execution_count": null,
   "id": "20c5d98e",
   "metadata": {},
   "outputs": [],
   "source": []
  }
 ],
 "metadata": {
  "kernelspec": {
   "display_name": "Python 3 (ipykernel)",
   "language": "python",
   "name": "python3"
  },
  "language_info": {
   "codemirror_mode": {
    "name": "ipython",
    "version": 3
   },
   "file_extension": ".py",
   "mimetype": "text/x-python",
   "name": "python",
   "nbconvert_exporter": "python",
   "pygments_lexer": "ipython3",
   "version": "3.9.12"
  }
 },
 "nbformat": 4,
 "nbformat_minor": 5
}
